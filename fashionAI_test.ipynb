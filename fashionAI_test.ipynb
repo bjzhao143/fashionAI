{
 "cells": [
  {
   "cell_type": "code",
   "execution_count": 1,
   "metadata": {
    "collapsed": true
   },
   "outputs": [],
   "source": [
    "import pandas as pd\n",
    "from keras.models import load_model"
   ]
  },
  {
   "cell_type": "code",
   "execution_count": null,
   "metadata": {
    "collapsed": true
   },
   "outputs": [],
   "source": [
    "# TODO: Set the path to the `.h5` file of the model to be loaded.\n",
    "model_path = 'path/to/trained/model.h5'\n",
    "model = load_model(model_path)"
   ]
  },
  {
   "cell_type": "markdown",
   "metadata": {},
   "source": [
    "# 在测试集上预测"
   ]
  },
  {
   "cell_type": "code",
   "execution_count": 24,
   "metadata": {
    "ExecuteTime": {
     "end_time": "2018-04-07T23:01:37.075633Z",
     "start_time": "2018-04-07T23:01:37.052291Z"
    }
   },
   "outputs": [
    {
     "data": {
      "text/html": [
       "<div>\n",
       "<style scoped>\n",
       "    .dataframe tbody tr th:only-of-type {\n",
       "        vertical-align: middle;\n",
       "    }\n",
       "\n",
       "    .dataframe tbody tr th {\n",
       "        vertical-align: top;\n",
       "    }\n",
       "\n",
       "    .dataframe thead th {\n",
       "        text-align: right;\n",
       "    }\n",
       "</style>\n",
       "<table border=\"1\" class=\"dataframe\">\n",
       "  <thead>\n",
       "    <tr style=\"text-align: right;\">\n",
       "      <th></th>\n",
       "      <th>filename</th>\n",
       "      <th>label_name</th>\n",
       "      <th>label</th>\n",
       "    </tr>\n",
       "  </thead>\n",
       "  <tbody>\n",
       "    <tr>\n",
       "      <th>0</th>\n",
       "      <td>Images/collar_design_labels/60951f5761ea3a01d6...</td>\n",
       "      <td>collar_design_labels</td>\n",
       "      <td>?</td>\n",
       "    </tr>\n",
       "    <tr>\n",
       "      <th>1</th>\n",
       "      <td>Images/collar_design_labels/677e1183282769a3fe...</td>\n",
       "      <td>collar_design_labels</td>\n",
       "      <td>?</td>\n",
       "    </tr>\n",
       "    <tr>\n",
       "      <th>2</th>\n",
       "      <td>Images/collar_design_labels/3f5a2be205e5d253eb...</td>\n",
       "      <td>collar_design_labels</td>\n",
       "      <td>?</td>\n",
       "    </tr>\n",
       "    <tr>\n",
       "      <th>3</th>\n",
       "      <td>Images/collar_design_labels/1712bf3d7b57d779ad...</td>\n",
       "      <td>collar_design_labels</td>\n",
       "      <td>?</td>\n",
       "    </tr>\n",
       "    <tr>\n",
       "      <th>4</th>\n",
       "      <td>Images/collar_design_labels/0b2b4254f35ce3a41a...</td>\n",
       "      <td>collar_design_labels</td>\n",
       "      <td>?</td>\n",
       "    </tr>\n",
       "  </tbody>\n",
       "</table>\n",
       "</div>"
      ],
      "text/plain": [
       "                                            filename            label_name  \\\n",
       "0  Images/collar_design_labels/60951f5761ea3a01d6...  collar_design_labels   \n",
       "1  Images/collar_design_labels/677e1183282769a3fe...  collar_design_labels   \n",
       "2  Images/collar_design_labels/3f5a2be205e5d253eb...  collar_design_labels   \n",
       "3  Images/collar_design_labels/1712bf3d7b57d779ad...  collar_design_labels   \n",
       "4  Images/collar_design_labels/0b2b4254f35ce3a41a...  collar_design_labels   \n",
       "\n",
       "  label  \n",
       "0     ?  \n",
       "1     ?  \n",
       "2     ?  \n",
       "3     ?  \n",
       "4     ?  "
      ]
     },
     "execution_count": 24,
     "metadata": {},
     "output_type": "execute_result"
    }
   ],
   "source": [
    "df_test = pd.read_csv('rank/Tests/question.csv', header=None)\n",
    "df_test.columns = ['filename', 'label_name', 'label']\n",
    "fnames_test = df_test.filename\n",
    "n_test = len(df_test)\n",
    "df_test.head()"
   ]
  },
  {
   "cell_type": "code",
   "execution_count": 25,
   "metadata": {
    "ExecuteTime": {
     "end_time": "2018-04-07T23:01:53.661369Z",
     "start_time": "2018-04-07T23:01:37.077016Z"
    }
   },
   "outputs": [
    {
     "name": "stderr",
     "output_type": "stream",
     "text": [
      "100%|██████████| 10080/10080 [00:14<00:00, 682.05it/s]\n"
     ]
    }
   ],
   "source": [
    "def f(index):\n",
    "    return index, cv2.resize(cv2.imread('rank/'+fnames_test[index]), (width, width))\n",
    "\n",
    "X_test = np.zeros((n_test, width, width, 3), dtype=np.uint8)\n",
    "with multiprocessing.Pool(12) as pool:\n",
    "    with tqdm(pool.imap_unordered(f, range(n_test)), total=n_test) as pbar:\n",
    "        for i, img in pbar:\n",
    "            X_test[i] = img[:,:,::-1]"
   ]
  },
  {
   "cell_type": "code",
   "execution_count": 26,
   "metadata": {
    "ExecuteTime": {
     "end_time": "2018-04-07T23:03:12.008784Z",
     "start_time": "2018-04-07T23:01:53.664178Z"
    }
   },
   "outputs": [
    {
     "name": "stdout",
     "output_type": "stream",
     "text": [
      "10080/10080 [==============================] - 78s 8ms/step\n"
     ]
    }
   ],
   "source": [
    "y_pred = model.predict(X_test, batch_size=64, verbose=1)"
   ]
  },
  {
   "cell_type": "code",
   "execution_count": 27,
   "metadata": {
    "ExecuteTime": {
     "end_time": "2018-04-07T23:03:13.281597Z",
     "start_time": "2018-04-07T23:03:12.009929Z"
    },
    "collapsed": true
   },
   "outputs": [],
   "source": [
    "for i in range(n_test):\n",
    "    problem_name = df_test.label_name[i].replace('_labels', '')\n",
    "    problem_index = label_names.index(problem_name)\n",
    "    probs = y_pred[problem_index][i]\n",
    "    df_test.label[i] = ';'.join(np.char.mod('%.8f', probs))"
   ]
  },
  {
   "cell_type": "code",
   "execution_count": 28,
   "metadata": {
    "ExecuteTime": {
     "end_time": "2018-04-07T23:03:13.360156Z",
     "start_time": "2018-04-07T23:03:13.282708Z"
    },
    "collapsed": true
   },
   "outputs": [],
   "source": [
    "fname_csv = 'pred_%s.csv' % model_name\n",
    "fname_zip = 'pred_%s.zip' % model_name\n",
    "df_test.to_csv(fname_csv, index=None, header=None)"
   ]
  }
 ],
 "metadata": {
  "kernelspec": {
   "display_name": "Python 3",
   "language": "python",
   "name": "python3"
  },
  "language_info": {
   "codemirror_mode": {
    "name": "ipython",
    "version": 3
   },
   "file_extension": ".py",
   "mimetype": "text/x-python",
   "name": "python",
   "nbconvert_exporter": "python",
   "pygments_lexer": "ipython3",
   "version": "3.6.3"
  }
 },
 "nbformat": 4,
 "nbformat_minor": 2
}
