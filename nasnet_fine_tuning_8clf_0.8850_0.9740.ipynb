{
 "cells": [
  {
   "cell_type": "code",
   "execution_count": 6,
   "metadata": {
    "ExecuteTime": {
     "end_time": "2018-04-07T17:23:15.079234Z",
     "start_time": "2018-04-07T17:23:14.228909Z"
    },
    "collapsed": true
   },
   "outputs": [],
   "source": [
    "import os\n",
    "os.environ['CUDA_VISIBLE_DEVICES'] = '0,1,2,3'\n",
    "n_gpus = 1 #len(os.environ['CUDA_VISIBLE_DEVICES'].split(','))\n",
    "model_name = 'nasnet_fine_tuning_8clf_2'\n",
    "\n",
    "import keras.backend as K\n",
    "import tensorflow as tf\n",
    "\n",
    "import os\n",
    "os.chdir('E:/competition/kaggle/fashionAI/base/')\n",
    "\n",
    "# gpu_options = tf.GPUOptions(per_process_gpu_memory_fraction=0.7)\n",
    "# sess = tf.Session(config=tf.ConfigProto(gpu_options=gpu_options))"
   ]
  },
  {
   "cell_type": "markdown",
   "metadata": {},
   "source": [
    "# 导入必要的库"
   ]
  },
  {
   "cell_type": "code",
   "execution_count": 7,
   "metadata": {
    "ExecuteTime": {
     "end_time": "2018-04-07T17:23:15.316079Z",
     "start_time": "2018-04-07T17:23:15.080390Z"
    },
    "collapsed": true
   },
   "outputs": [],
   "source": [
    "import numpy as np\n",
    "import pandas as pd\n",
    "from keras.layers import *\n",
    "from keras.models import *\n",
    "from keras.optimizers import *\n",
    "from keras.applications import *\n",
    "from keras.regularizers import l2\n",
    "\n",
    "from keras.preprocessing.image import *\n",
    "\n",
    "import matplotlib.pyplot as plt\n",
    "import random\n",
    "import os\n",
    "import cv2\n",
    "from tqdm import tqdm,tqdm_notebook\n",
    "from glob import glob\n",
    "import multiprocessing\n",
    "\n",
    "from sklearn.model_selection import train_test_split\n",
    "from collections import Counter\n",
    "from keras import backend as K\n",
    "from keras.utils import multi_gpu_model\n",
    "from scipy import misc\n",
    "from IPython.display import display, Image\n",
    "\n",
    "%matplotlib inline\n",
    "%config InlineBackend.figure_format = 'retina'"
   ]
  },
  {
   "cell_type": "markdown",
   "metadata": {},
   "source": [
    "# 读取数据集"
   ]
  },
  {
   "cell_type": "code",
   "execution_count": 8,
   "metadata": {
    "ExecuteTime": {
     "end_time": "2018-04-07T17:23:15.472275Z",
     "start_time": "2018-04-07T17:23:15.317186Z"
    }
   },
   "outputs": [
    {
     "data": {
      "text/html": [
       "<div>\n",
       "<style>\n",
       "    .dataframe thead tr:only-child th {\n",
       "        text-align: right;\n",
       "    }\n",
       "\n",
       "    .dataframe thead th {\n",
       "        text-align: left;\n",
       "    }\n",
       "\n",
       "    .dataframe tbody tr th {\n",
       "        vertical-align: top;\n",
       "    }\n",
       "</style>\n",
       "<table border=\"1\" class=\"dataframe\">\n",
       "  <thead>\n",
       "    <tr style=\"text-align: right;\">\n",
       "      <th></th>\n",
       "      <th>filename</th>\n",
       "      <th>label_name</th>\n",
       "      <th>label</th>\n",
       "    </tr>\n",
       "  </thead>\n",
       "  <tbody>\n",
       "    <tr>\n",
       "      <th>0</th>\n",
       "      <td>Images/lapel_design_labels/d7cbd9caeeb7892e56a...</td>\n",
       "      <td>lapel_design</td>\n",
       "      <td>nynnn</td>\n",
       "    </tr>\n",
       "    <tr>\n",
       "      <th>1</th>\n",
       "      <td>Images/neckline_design_labels/7354175d1a10ed96...</td>\n",
       "      <td>neckline_design</td>\n",
       "      <td>nnnynnnnnn</td>\n",
       "    </tr>\n",
       "    <tr>\n",
       "      <th>2</th>\n",
       "      <td>Images/neckline_design_labels/e936ffd78d6230ba...</td>\n",
       "      <td>neckline_design</td>\n",
       "      <td>nnnnynnnnn</td>\n",
       "    </tr>\n",
       "    <tr>\n",
       "      <th>3</th>\n",
       "      <td>Images/lapel_design_labels/e09f84f7c8f7a79b9a2...</td>\n",
       "      <td>lapel_design</td>\n",
       "      <td>ynnnn</td>\n",
       "    </tr>\n",
       "    <tr>\n",
       "      <th>4</th>\n",
       "      <td>Images/collar_design_labels/ebaad55145c656205a...</td>\n",
       "      <td>collar_design</td>\n",
       "      <td>nnnny</td>\n",
       "    </tr>\n",
       "  </tbody>\n",
       "</table>\n",
       "</div>"
      ],
      "text/plain": [
       "                                            filename       label_name  \\\n",
       "0  Images/lapel_design_labels/d7cbd9caeeb7892e56a...     lapel_design   \n",
       "1  Images/neckline_design_labels/7354175d1a10ed96...  neckline_design   \n",
       "2  Images/neckline_design_labels/e936ffd78d6230ba...  neckline_design   \n",
       "3  Images/lapel_design_labels/e09f84f7c8f7a79b9a2...     lapel_design   \n",
       "4  Images/collar_design_labels/ebaad55145c656205a...    collar_design   \n",
       "\n",
       "        label  \n",
       "0       nynnn  \n",
       "1  nnnynnnnnn  \n",
       "2  nnnnynnnnn  \n",
       "3       ynnnn  \n",
       "4       nnnny  "
      ]
     },
     "metadata": {},
     "output_type": "display_data"
    },
    {
     "data": {
      "text/plain": [
       "Counter({'coat_length': 1451,\n",
       "         'collar_design': 1052,\n",
       "         'lapel_design': 923,\n",
       "         'neck_design': 719,\n",
       "         'neckline_design': 2166,\n",
       "         'pant_length': 923,\n",
       "         'skirt_length': 1111,\n",
       "         'sleeve_length': 1655})"
      ]
     },
     "execution_count": 8,
     "metadata": {},
     "output_type": "execute_result"
    }
   ],
   "source": [
    "df = pd.read_csv('Annotations/label.csv', header=None)\n",
    "df.columns = ['filename', 'label_name', 'label']\n",
    "df = df.sample(frac=1).reset_index(drop=True) # shuffle\n",
    "df = df.iloc[:10000,:]\n",
    "\n",
    "df.label_name = df.label_name.str.replace('_labels', '')\n",
    "\n",
    "display(df.head())\n",
    "c = Counter(df.label_name)\n",
    "c"
   ]
  },
  {
   "cell_type": "code",
   "execution_count": 9,
   "metadata": {},
   "outputs": [
    {
     "data": {
      "text/plain": [
       "neckline_design    2166\n",
       "sleeve_length      1655\n",
       "coat_length        1451\n",
       "skirt_length       1111\n",
       "collar_design      1052\n",
       "lapel_design        923\n",
       "pant_length         923\n",
       "neck_design         719\n",
       "Name: label_name, dtype: int64"
      ]
     },
     "execution_count": 9,
     "metadata": {},
     "output_type": "execute_result"
    }
   ],
   "source": [
    "df.label_name.value_counts()"
   ]
  },
  {
   "cell_type": "markdown",
   "metadata": {},
   "source": [
    "## 分类的类别数"
   ]
  },
  {
   "cell_type": "code",
   "execution_count": 10,
   "metadata": {
    "ExecuteTime": {
     "end_time": "2018-04-07T17:23:15.523937Z",
     "start_time": "2018-04-07T17:23:15.474352Z"
    },
    "code_folding": []
   },
   "outputs": [
    {
     "data": {
      "text/plain": [
       "{'coat_length': 8,\n",
       " 'collar_design': 5,\n",
       " 'lapel_design': 5,\n",
       " 'neck_design': 5,\n",
       " 'neckline_design': 10,\n",
       " 'pant_length': 6,\n",
       " 'skirt_length': 6,\n",
       " 'sleeve_length': 9}"
      ]
     },
     "metadata": {},
     "output_type": "display_data"
    }
   ],
   "source": [
    "label_count = dict([(x, len(df[df.label_name == x].label.values[0])) for x in c.keys()])\n",
    "label_names = list(label_count.keys())\n",
    "display(label_count)"
   ]
  },
  {
   "cell_type": "markdown",
   "metadata": {},
   "source": [
    "## 生成 y"
   ]
  },
  {
   "cell_type": "code",
   "execution_count": 11,
   "metadata": {
    "ExecuteTime": {
     "end_time": "2018-04-07T17:23:17.137384Z",
     "start_time": "2018-04-07T17:23:15.524971Z"
    },
    "collapsed": true
   },
   "outputs": [],
   "source": [
    "fnames = df['filename'].values\n",
    "width = 224\n",
    "n = len(df)\n",
    "y = [np.zeros((n, label_count[x])) for x in label_count.keys()]\n",
    "for i in range(n):\n",
    "    label_name = df.label_name[i]\n",
    "    label = df.label[i]\n",
    "    y[label_names.index(label_name)][i, label.find('y')] = 1"
   ]
  },
  {
   "cell_type": "code",
   "execution_count": 12,
   "metadata": {},
   "outputs": [
    {
     "data": {
      "text/plain": [
       "array(['Images/lapel_design_labels/d7cbd9caeeb7892e56a31160e3b0c92e.jpg',\n",
       "       'Images/neckline_design_labels/7354175d1a10ed969102e514bffa2f2c.jpg',\n",
       "       'Images/neckline_design_labels/e936ffd78d6230ba33ff18e38a200684.jpg',\n",
       "       ...,\n",
       "       'Images/skirt_length_labels/d374e9b459e109c0b994e9cb5908c0cd.jpg',\n",
       "       'Images/coat_length_labels/5591ead793d7b4c53f7003c81a2ad39c.jpg',\n",
       "       'Images/skirt_length_labels/f4a811dec3f0f0c602635a72a779f882.jpg'], dtype=object)"
      ]
     },
     "execution_count": 12,
     "metadata": {},
     "output_type": "execute_result"
    }
   ],
   "source": [
    "fnames"
   ]
  },
  {
   "cell_type": "markdown",
   "metadata": {},
   "source": [
    "## 读取图片"
   ]
  },
  {
   "cell_type": "code",
   "execution_count": 15,
   "metadata": {
    "ExecuteTime": {
     "end_time": "2018-04-07T17:24:15.086526Z",
     "start_time": "2018-04-07T17:23:17.140308Z"
    },
    "code_folding": []
   },
   "outputs": [
    {
     "ename": "ValueError",
     "evalue": "'arr' does not have a suitable array shape for any mode.",
     "output_type": "error",
     "traceback": [
      "\u001b[1;31m--------------------------------------------------------------------------\u001b[0m",
      "\u001b[1;31mValueError\u001b[0m                               Traceback (most recent call last)",
      "\u001b[1;32m<ipython-input-15-546aa736544c>\u001b[0m in \u001b[0;36m<module>\u001b[1;34m()\u001b[0m\n\u001b[0;32m      1\u001b[0m \u001b[1;32mdef\u001b[0m \u001b[0mf\u001b[0m\u001b[1;33m(\u001b[0m\u001b[0mindex\u001b[0m\u001b[1;33m)\u001b[0m\u001b[1;33m:\u001b[0m\u001b[1;33m\u001b[0m\u001b[0m\n\u001b[0;32m      2\u001b[0m     \u001b[1;32mreturn\u001b[0m \u001b[0mindex\u001b[0m\u001b[1;33m,\u001b[0m \u001b[0mmisc\u001b[0m\u001b[1;33m.\u001b[0m\u001b[0mimresize\u001b[0m\u001b[1;33m(\u001b[0m\u001b[0mcv2\u001b[0m\u001b[1;33m.\u001b[0m\u001b[0mimread\u001b[0m\u001b[1;33m(\u001b[0m\u001b[0mfnames\u001b[0m\u001b[1;33m[\u001b[0m\u001b[0mindex\u001b[0m\u001b[1;33m]\u001b[0m\u001b[1;33m)\u001b[0m\u001b[1;33m,\u001b[0m \u001b[1;33m(\u001b[0m\u001b[0mwidth\u001b[0m\u001b[1;33m,\u001b[0m \u001b[0mwidth\u001b[0m\u001b[1;33m)\u001b[0m\u001b[1;33m)\u001b[0m\u001b[1;33m\u001b[0m\u001b[0m\n\u001b[1;32m----> 3\u001b[1;33m \u001b[0mX\u001b[0m \u001b[1;33m=\u001b[0m \u001b[0mnp\u001b[0m\u001b[1;33m.\u001b[0m\u001b[0marray\u001b[0m\u001b[1;33m(\u001b[0m\u001b[1;33m[\u001b[0m\u001b[0mf\u001b[0m\u001b[1;33m(\u001b[0m\u001b[0mi\u001b[0m\u001b[1;33m)\u001b[0m \u001b[1;32mfor\u001b[0m \u001b[0mi\u001b[0m \u001b[1;32min\u001b[0m \u001b[0mrange\u001b[0m\u001b[1;33m(\u001b[0m\u001b[0mn\u001b[0m\u001b[1;33m)\u001b[0m\u001b[1;33m]\u001b[0m\u001b[1;33m)\u001b[0m\u001b[1;33m\u001b[0m\u001b[0m\n\u001b[0m",
      "\u001b[1;32m<ipython-input-15-546aa736544c>\u001b[0m in \u001b[0;36m<listcomp>\u001b[1;34m(.0)\u001b[0m\n\u001b[0;32m      1\u001b[0m \u001b[1;32mdef\u001b[0m \u001b[0mf\u001b[0m\u001b[1;33m(\u001b[0m\u001b[0mindex\u001b[0m\u001b[1;33m)\u001b[0m\u001b[1;33m:\u001b[0m\u001b[1;33m\u001b[0m\u001b[0m\n\u001b[0;32m      2\u001b[0m     \u001b[1;32mreturn\u001b[0m \u001b[0mindex\u001b[0m\u001b[1;33m,\u001b[0m \u001b[0mmisc\u001b[0m\u001b[1;33m.\u001b[0m\u001b[0mimresize\u001b[0m\u001b[1;33m(\u001b[0m\u001b[0mcv2\u001b[0m\u001b[1;33m.\u001b[0m\u001b[0mimread\u001b[0m\u001b[1;33m(\u001b[0m\u001b[0mfnames\u001b[0m\u001b[1;33m[\u001b[0m\u001b[0mindex\u001b[0m\u001b[1;33m]\u001b[0m\u001b[1;33m)\u001b[0m\u001b[1;33m,\u001b[0m \u001b[1;33m(\u001b[0m\u001b[0mwidth\u001b[0m\u001b[1;33m,\u001b[0m \u001b[0mwidth\u001b[0m\u001b[1;33m)\u001b[0m\u001b[1;33m)\u001b[0m\u001b[1;33m\u001b[0m\u001b[0m\n\u001b[1;32m----> 3\u001b[1;33m \u001b[0mX\u001b[0m \u001b[1;33m=\u001b[0m \u001b[0mnp\u001b[0m\u001b[1;33m.\u001b[0m\u001b[0marray\u001b[0m\u001b[1;33m(\u001b[0m\u001b[1;33m[\u001b[0m\u001b[0mf\u001b[0m\u001b[1;33m(\u001b[0m\u001b[0mi\u001b[0m\u001b[1;33m)\u001b[0m \u001b[1;32mfor\u001b[0m \u001b[0mi\u001b[0m \u001b[1;32min\u001b[0m \u001b[0mrange\u001b[0m\u001b[1;33m(\u001b[0m\u001b[0mn\u001b[0m\u001b[1;33m)\u001b[0m\u001b[1;33m]\u001b[0m\u001b[1;33m)\u001b[0m\u001b[1;33m\u001b[0m\u001b[0m\n\u001b[0m",
      "\u001b[1;32m<ipython-input-15-546aa736544c>\u001b[0m in \u001b[0;36mf\u001b[1;34m(index)\u001b[0m\n\u001b[0;32m      1\u001b[0m \u001b[1;32mdef\u001b[0m \u001b[0mf\u001b[0m\u001b[1;33m(\u001b[0m\u001b[0mindex\u001b[0m\u001b[1;33m)\u001b[0m\u001b[1;33m:\u001b[0m\u001b[1;33m\u001b[0m\u001b[0m\n\u001b[1;32m----> 2\u001b[1;33m     \u001b[1;32mreturn\u001b[0m \u001b[0mindex\u001b[0m\u001b[1;33m,\u001b[0m \u001b[0mmisc\u001b[0m\u001b[1;33m.\u001b[0m\u001b[0mimresize\u001b[0m\u001b[1;33m(\u001b[0m\u001b[0mcv2\u001b[0m\u001b[1;33m.\u001b[0m\u001b[0mimread\u001b[0m\u001b[1;33m(\u001b[0m\u001b[0mfnames\u001b[0m\u001b[1;33m[\u001b[0m\u001b[0mindex\u001b[0m\u001b[1;33m]\u001b[0m\u001b[1;33m)\u001b[0m\u001b[1;33m,\u001b[0m \u001b[1;33m(\u001b[0m\u001b[0mwidth\u001b[0m\u001b[1;33m,\u001b[0m \u001b[0mwidth\u001b[0m\u001b[1;33m)\u001b[0m\u001b[1;33m)\u001b[0m\u001b[1;33m\u001b[0m\u001b[0m\n\u001b[0m\u001b[0;32m      3\u001b[0m \u001b[0mX\u001b[0m \u001b[1;33m=\u001b[0m \u001b[0mnp\u001b[0m\u001b[1;33m.\u001b[0m\u001b[0marray\u001b[0m\u001b[1;33m(\u001b[0m\u001b[1;33m[\u001b[0m\u001b[0mf\u001b[0m\u001b[1;33m(\u001b[0m\u001b[0mi\u001b[0m\u001b[1;33m)\u001b[0m \u001b[1;32mfor\u001b[0m \u001b[0mi\u001b[0m \u001b[1;32min\u001b[0m \u001b[0mrange\u001b[0m\u001b[1;33m(\u001b[0m\u001b[0mn\u001b[0m\u001b[1;33m)\u001b[0m\u001b[1;33m]\u001b[0m\u001b[1;33m)\u001b[0m\u001b[1;33m\u001b[0m\u001b[0m\n",
      "\u001b[1;32m~\\Miniconda3\\lib\\site-packages\\scipy\\misc\\pilutil.py\u001b[0m in \u001b[0;36mimresize\u001b[1;34m(arr, size, interp, mode)\u001b[0m\n\u001b[0;32m    478\u001b[0m \u001b[1;33m\u001b[0m\u001b[0m\n\u001b[0;32m    479\u001b[0m     \"\"\"\n\u001b[1;32m--> 480\u001b[1;33m     \u001b[0mim\u001b[0m \u001b[1;33m=\u001b[0m \u001b[0mtoimage\u001b[0m\u001b[1;33m(\u001b[0m\u001b[0marr\u001b[0m\u001b[1;33m,\u001b[0m \u001b[0mmode\u001b[0m\u001b[1;33m=\u001b[0m\u001b[0mmode\u001b[0m\u001b[1;33m)\u001b[0m\u001b[1;33m\u001b[0m\u001b[0m\n\u001b[0m\u001b[0;32m    481\u001b[0m     \u001b[0mts\u001b[0m \u001b[1;33m=\u001b[0m \u001b[0mtype\u001b[0m\u001b[1;33m(\u001b[0m\u001b[0msize\u001b[0m\u001b[1;33m)\u001b[0m\u001b[1;33m\u001b[0m\u001b[0m\n\u001b[0;32m    482\u001b[0m     \u001b[1;32mif\u001b[0m \u001b[0missubdtype\u001b[0m\u001b[1;33m(\u001b[0m\u001b[0mts\u001b[0m\u001b[1;33m,\u001b[0m \u001b[0mint\u001b[0m\u001b[1;33m)\u001b[0m\u001b[1;33m:\u001b[0m\u001b[1;33m\u001b[0m\u001b[0m\n",
      "\u001b[1;32m~\\Miniconda3\\lib\\site-packages\\scipy\\misc\\pilutil.py\u001b[0m in \u001b[0;36mtoimage\u001b[1;34m(arr, high, low, cmin, cmax, pal, mode, channel_axis)\u001b[0m\n\u001b[0;32m    287\u001b[0m                                 ((3 in shape) or (4 in shape)))\n\u001b[0;32m    288\u001b[0m     \u001b[1;32mif\u001b[0m \u001b[1;32mnot\u001b[0m \u001b[0mvalid\u001b[0m\u001b[1;33m:\u001b[0m\u001b[1;33m\u001b[0m\u001b[0m\n\u001b[1;32m--> 289\u001b[1;33m         raise ValueError(\"'arr' does not have a suitable array shape for \"\n\u001b[0m\u001b[0;32m    290\u001b[0m                          \"any mode.\")\n\u001b[0;32m    291\u001b[0m     \u001b[1;32mif\u001b[0m \u001b[0mlen\u001b[0m\u001b[1;33m(\u001b[0m\u001b[0mshape\u001b[0m\u001b[1;33m)\u001b[0m \u001b[1;33m==\u001b[0m \u001b[1;36m2\u001b[0m\u001b[1;33m:\u001b[0m\u001b[1;33m\u001b[0m\u001b[0m\n",
      "\u001b[1;31mValueError\u001b[0m: 'arr' does not have a suitable array shape for any mode."
     ]
    }
   ],
   "source": [
    "def f(index):\n",
    "    return index, misc.imresize(cv2.imread(fnames[index]), (width, width))\n",
    "X = np.array([f(i) for i in range(n)])"
   ]
  },
  {
   "cell_type": "code",
   "execution_count": 16,
   "metadata": {
    "ExecuteTime": {
     "end_time": "2018-04-07T17:24:15.093182Z",
     "start_time": "2018-04-07T17:24:15.088621Z"
    },
    "collapsed": true
   },
   "outputs": [],
   "source": [
    "n_train = int(n*0.8)\n",
    "\n",
    "X_train = X[:n_train]\n",
    "X_valid = X[n_train:]\n",
    "y_train = [x[:n_train] for x in y]\n",
    "y_valid = [x[n_train:] for x in y]"
   ]
  },
  {
   "cell_type": "code",
   "execution_count": 17,
   "metadata": {
    "ExecuteTime": {
     "end_time": "2018-04-07T17:24:15.099505Z",
     "start_time": "2018-04-07T17:24:15.094585Z"
    },
    "collapsed": true
   },
   "outputs": [],
   "source": [
    "def display_images(imgs, w=8, h=4, figsize=(24, 12)):\n",
    "    plt.figure(figsize=figsize)\n",
    "    for i in range(w*h):\n",
    "        plt.subplot(h, w, i+1)\n",
    "        plt.imshow(imgs[i])"
   ]
  },
  {
   "cell_type": "code",
   "execution_count": 18,
   "metadata": {
    "ExecuteTime": {
     "end_time": "2018-04-07T17:24:15.116015Z",
     "start_time": "2018-04-07T17:24:15.100880Z"
    },
    "collapsed": true
   },
   "outputs": [],
   "source": [
    "class Generator():\n",
    "    def __init__(self, X, y, batch_size=32, aug=False):\n",
    "        def generator():\n",
    "            idg = ImageDataGenerator(horizontal_flip=True,\n",
    "                                     rotation_range=20,\n",
    "                                     zoom_range=0.2)\n",
    "            while True:\n",
    "                for i in range(0, len(X), batch_size):\n",
    "                    X_batch = X[i:i+batch_size].copy()\n",
    "                    y_barch = [x[i:i+batch_size] for x in y]\n",
    "                    if aug:\n",
    "                        for j in range(len(X_batch)):\n",
    "                            X_batch[j] = idg.random_transform(X_batch[j])\n",
    "                    yield X_batch, y_barch\n",
    "        self.generator = generator()\n",
    "        self.steps = len(X) // batch_size + 1"
   ]
  },
  {
   "cell_type": "code",
   "execution_count": 19,
   "metadata": {
    "ExecuteTime": {
     "end_time": "2018-04-07T17:24:15.123929Z",
     "start_time": "2018-04-07T17:24:15.117484Z"
    },
    "collapsed": true
   },
   "outputs": [],
   "source": [
    "gen_train = Generator(X_train, y_train, batch_size=32, aug=True)"
   ]
  },
  {
   "cell_type": "markdown",
   "metadata": {},
   "source": [
    "# 数据集探索\n",
    "\n",
    "## 类别分布"
   ]
  },
  {
   "cell_type": "code",
   "execution_count": 11,
   "metadata": {
    "ExecuteTime": {
     "end_time": "2018-04-07T17:24:15.130162Z",
     "start_time": "2018-04-07T17:24:15.125259Z"
    },
    "collapsed": true
   },
   "outputs": [],
   "source": [
    "plt.figure(figsize=(26, 14))\n",
    "for i in range(8):\n",
    "    plt.subplot(2, 4, i+1)\n",
    "    counts = Counter(y[i].argmax(axis=-1)[np.where(y[i].any(axis=-1))])\n",
    "    pd.Series(counts).plot('bar')"
   ]
  },
  {
   "cell_type": "markdown",
   "metadata": {},
   "source": [
    "### 抽样可视化"
   ]
  },
  {
   "cell_type": "code",
   "execution_count": 12,
   "metadata": {
    "ExecuteTime": {
     "end_time": "2018-04-07T17:24:15.138224Z",
     "start_time": "2018-04-07T17:24:15.131739Z"
    },
    "collapsed": true
   },
   "outputs": [],
   "source": [
    "plt.figure(figsize=(26, 14))\n",
    "w = 8\n",
    "h = 4\n",
    "for i in range(w*h):\n",
    "    plt.subplot(h, w, i+1)\n",
    "    index = np.random.randint(n)\n",
    "    plt.title(str([y[x][index].argmax() if y[x][index].any() else -1 for x in range(8) ]))\n",
    "    plt.imshow(X[index])\n",
    "    plt.axis('off')"
   ]
  },
  {
   "cell_type": "markdown",
   "metadata": {},
   "source": [
    "# 搭建模型并训练\n",
    "\n",
    "## 搭建模型"
   ]
  },
  {
   "cell_type": "code",
   "execution_count": 20,
   "metadata": {
    "ExecuteTime": {
     "end_time": "2018-04-07T17:24:15.145368Z",
     "start_time": "2018-04-07T17:24:15.139606Z"
    },
    "collapsed": true
   },
   "outputs": [],
   "source": [
    "def acc(y_true, y_pred):\n",
    "    index = tf.reduce_any(y_true > 0.5, axis=-1)\n",
    "    res = tf.equal(tf.argmax(y_true, axis=-1), tf.argmax(y_pred, axis=-1))\n",
    "    index = tf.cast(index, tf.float32)\n",
    "    res = tf.cast(res, tf.float32)\n",
    "    return tf.reduce_sum(res * index) / (tf.reduce_sum(index) + 1e-7)"
   ]
  },
  {
   "cell_type": "code",
   "execution_count": 10,
   "metadata": {
    "ExecuteTime": {
     "end_time": "2018-04-07T17:25:14.609365Z",
     "start_time": "2018-04-07T17:24:15.146696Z"
    },
    "scrolled": true
   },
   "outputs": [
    {
     "data": {
      "image/svg+xml": [
       "<svg height=\"470pt\" viewBox=\"0.00 0.00 2333.50 470.00\" width=\"2334pt\" xmlns=\"http://www.w3.org/2000/svg\" xmlns:xlink=\"http://www.w3.org/1999/xlink\">\n",
       "<g class=\"graph\" id=\"graph0\" transform=\"scale(1 1) rotate(0) translate(4 466)\">\n",
       "<title>G</title>\n",
       "<polygon fill=\"white\" points=\"-4,4 -4,-466 2329.5,-466 2329.5,4 -4,4\" stroke=\"none\"/>\n",
       "<!-- 2671975862224 -->\n",
       "<g class=\"node\" id=\"node1\"><title>2671975862224</title>\n",
       "<polygon fill=\"none\" points=\"998.5,-415.5 998.5,-461.5 1305.5,-461.5 1305.5,-415.5 998.5,-415.5\" stroke=\"black\"/>\n",
       "<text font-family=\"Times New Roman,serif\" font-size=\"14.00\" text-anchor=\"middle\" x=\"1061.5\" y=\"-434.8\">input_3: InputLayer</text>\n",
       "<polyline fill=\"none\" points=\"1124.5,-415.5 1124.5,-461.5 \" stroke=\"black\"/>\n",
       "<text font-family=\"Times New Roman,serif\" font-size=\"14.00\" text-anchor=\"middle\" x=\"1152.5\" y=\"-446.3\">input:</text>\n",
       "<polyline fill=\"none\" points=\"1124.5,-438.5 1180.5,-438.5 \" stroke=\"black\"/>\n",
       "<text font-family=\"Times New Roman,serif\" font-size=\"14.00\" text-anchor=\"middle\" x=\"1152.5\" y=\"-423.3\">output:</text>\n",
       "<polyline fill=\"none\" points=\"1180.5,-415.5 1180.5,-461.5 \" stroke=\"black\"/>\n",
       "<text font-family=\"Times New Roman,serif\" font-size=\"14.00\" text-anchor=\"middle\" x=\"1243\" y=\"-446.3\">(None, 229, 229, 3)</text>\n",
       "<polyline fill=\"none\" points=\"1180.5,-438.5 1305.5,-438.5 \" stroke=\"black\"/>\n",
       "<text font-family=\"Times New Roman,serif\" font-size=\"14.00\" text-anchor=\"middle\" x=\"1243\" y=\"-423.3\">(None, 229, 229, 3)</text>\n",
       "</g>\n",
       "<!-- 2671976278112 -->\n",
       "<g class=\"node\" id=\"node2\"><title>2671976278112</title>\n",
       "<polygon fill=\"none\" points=\"875.5,-332.5 875.5,-378.5 1180.5,-378.5 1180.5,-332.5 875.5,-332.5\" stroke=\"black\"/>\n",
       "<text font-family=\"Times New Roman,serif\" font-size=\"14.00\" text-anchor=\"middle\" x=\"937.5\" y=\"-351.8\">lambda_1: Lambda</text>\n",
       "<polyline fill=\"none\" points=\"999.5,-332.5 999.5,-378.5 \" stroke=\"black\"/>\n",
       "<text font-family=\"Times New Roman,serif\" font-size=\"14.00\" text-anchor=\"middle\" x=\"1027.5\" y=\"-363.3\">input:</text>\n",
       "<polyline fill=\"none\" points=\"999.5,-355.5 1055.5,-355.5 \" stroke=\"black\"/>\n",
       "<text font-family=\"Times New Roman,serif\" font-size=\"14.00\" text-anchor=\"middle\" x=\"1027.5\" y=\"-340.3\">output:</text>\n",
       "<polyline fill=\"none\" points=\"1055.5,-332.5 1055.5,-378.5 \" stroke=\"black\"/>\n",
       "<text font-family=\"Times New Roman,serif\" font-size=\"14.00\" text-anchor=\"middle\" x=\"1118\" y=\"-363.3\">(None, 229, 229, 3)</text>\n",
       "<polyline fill=\"none\" points=\"1055.5,-355.5 1180.5,-355.5 \" stroke=\"black\"/>\n",
       "<text font-family=\"Times New Roman,serif\" font-size=\"14.00\" text-anchor=\"middle\" x=\"1118\" y=\"-340.3\">(None, 229, 229, 3)</text>\n",
       "</g>\n",
       "<!-- 2671975862224&#45;&gt;2671976278112 -->\n",
       "<g class=\"edge\" id=\"edge1\"><title>2671975862224-&gt;2671976278112</title>\n",
       "<path d=\"M1118.12,-415.366C1103.35,-405.723 1085.89,-394.317 1070.29,-384.125\" fill=\"none\" stroke=\"black\"/>\n",
       "<polygon fill=\"black\" points=\"1072.13,-381.146 1061.84,-378.607 1068.3,-387.006 1072.13,-381.146\" stroke=\"black\"/>\n",
       "</g>\n",
       "<!-- 2671975898360 -->\n",
       "<g class=\"node\" id=\"node4\"><title>2671975898360</title>\n",
       "<polygon fill=\"none\" points=\"1157.5,-249.5 1157.5,-295.5 1462.5,-295.5 1462.5,-249.5 1157.5,-249.5\" stroke=\"black\"/>\n",
       "<text font-family=\"Times New Roman,serif\" font-size=\"14.00\" text-anchor=\"middle\" x=\"1219.5\" y=\"-268.8\">lambda_2: Lambda</text>\n",
       "<polyline fill=\"none\" points=\"1281.5,-249.5 1281.5,-295.5 \" stroke=\"black\"/>\n",
       "<text font-family=\"Times New Roman,serif\" font-size=\"14.00\" text-anchor=\"middle\" x=\"1309.5\" y=\"-280.3\">input:</text>\n",
       "<polyline fill=\"none\" points=\"1281.5,-272.5 1337.5,-272.5 \" stroke=\"black\"/>\n",
       "<text font-family=\"Times New Roman,serif\" font-size=\"14.00\" text-anchor=\"middle\" x=\"1309.5\" y=\"-257.3\">output:</text>\n",
       "<polyline fill=\"none\" points=\"1337.5,-249.5 1337.5,-295.5 \" stroke=\"black\"/>\n",
       "<text font-family=\"Times New Roman,serif\" font-size=\"14.00\" text-anchor=\"middle\" x=\"1400\" y=\"-280.3\">(None, 229, 229, 3)</text>\n",
       "<polyline fill=\"none\" points=\"1337.5,-272.5 1462.5,-272.5 \" stroke=\"black\"/>\n",
       "<text font-family=\"Times New Roman,serif\" font-size=\"14.00\" text-anchor=\"middle\" x=\"1400\" y=\"-257.3\">(None, 229, 229, 3)</text>\n",
       "</g>\n",
       "<!-- 2671975862224&#45;&gt;2671975898360 -->\n",
       "<g class=\"edge\" id=\"edge3\"><title>2671975862224-&gt;2671975898360</title>\n",
       "<path d=\"M1173.31,-415.382C1201.3,-386.324 1250.55,-335.206 1281.66,-302.912\" fill=\"none\" stroke=\"black\"/>\n",
       "<polygon fill=\"black\" points=\"1284.36,-305.159 1288.78,-295.529 1279.32,-300.302 1284.36,-305.159\" stroke=\"black\"/>\n",
       "</g>\n",
       "<!-- 2671741223768 -->\n",
       "<g class=\"node\" id=\"node3\"><title>2671741223768</title>\n",
       "<polygon fill=\"none\" points=\"851,-249.5 851,-295.5 1139,-295.5 1139,-249.5 851,-249.5\" stroke=\"black\"/>\n",
       "<text font-family=\"Times New Roman,serif\" font-size=\"14.00\" text-anchor=\"middle\" x=\"904.5\" y=\"-268.8\">NASNet: Model</text>\n",
       "<polyline fill=\"none\" points=\"958,-249.5 958,-295.5 \" stroke=\"black\"/>\n",
       "<text font-family=\"Times New Roman,serif\" font-size=\"14.00\" text-anchor=\"middle\" x=\"986\" y=\"-280.3\">input:</text>\n",
       "<polyline fill=\"none\" points=\"958,-272.5 1014,-272.5 \" stroke=\"black\"/>\n",
       "<text font-family=\"Times New Roman,serif\" font-size=\"14.00\" text-anchor=\"middle\" x=\"986\" y=\"-257.3\">output:</text>\n",
       "<polyline fill=\"none\" points=\"1014,-249.5 1014,-295.5 \" stroke=\"black\"/>\n",
       "<text font-family=\"Times New Roman,serif\" font-size=\"14.00\" text-anchor=\"middle\" x=\"1076.5\" y=\"-280.3\">(None, 229, 229, 3)</text>\n",
       "<polyline fill=\"none\" points=\"1014,-272.5 1139,-272.5 \" stroke=\"black\"/>\n",
       "<text font-family=\"Times New Roman,serif\" font-size=\"14.00\" text-anchor=\"middle\" x=\"1076.5\" y=\"-257.3\">(None, 4032)</text>\n",
       "</g>\n",
       "<!-- 2671976278112&#45;&gt;2671741223768 -->\n",
       "<g class=\"edge\" id=\"edge2\"><title>2671976278112-&gt;2671741223768</title>\n",
       "<path d=\"M1018.98,-332.366C1015.56,-323.973 1011.6,-314.245 1007.89,-305.143\" fill=\"none\" stroke=\"black\"/>\n",
       "<polygon fill=\"black\" points=\"1011.02,-303.547 1004.01,-295.607 1004.54,-306.188 1011.02,-303.547\" stroke=\"black\"/>\n",
       "</g>\n",
       "<!-- 2671978993424 -->\n",
       "<g class=\"node\" id=\"node5\"><title>2671978993424</title>\n",
       "<polygon fill=\"none\" points=\"864,-166.5 864,-212.5 1140,-212.5 1140,-166.5 864,-166.5\" stroke=\"black\"/>\n",
       "<text font-family=\"Times New Roman,serif\" font-size=\"14.00\" text-anchor=\"middle\" x=\"929\" y=\"-185.8\">dropout_1: Dropout</text>\n",
       "<polyline fill=\"none\" points=\"994,-166.5 994,-212.5 \" stroke=\"black\"/>\n",
       "<text font-family=\"Times New Roman,serif\" font-size=\"14.00\" text-anchor=\"middle\" x=\"1022\" y=\"-197.3\">input:</text>\n",
       "<polyline fill=\"none\" points=\"994,-189.5 1050,-189.5 \" stroke=\"black\"/>\n",
       "<text font-family=\"Times New Roman,serif\" font-size=\"14.00\" text-anchor=\"middle\" x=\"1022\" y=\"-174.3\">output:</text>\n",
       "<polyline fill=\"none\" points=\"1050,-166.5 1050,-212.5 \" stroke=\"black\"/>\n",
       "<text font-family=\"Times New Roman,serif\" font-size=\"14.00\" text-anchor=\"middle\" x=\"1095\" y=\"-197.3\">(None, 4032)</text>\n",
       "<polyline fill=\"none\" points=\"1050,-189.5 1140,-189.5 \" stroke=\"black\"/>\n",
       "<text font-family=\"Times New Roman,serif\" font-size=\"14.00\" text-anchor=\"middle\" x=\"1095\" y=\"-174.3\">(None, 4032)</text>\n",
       "</g>\n",
       "<!-- 2671741223768&#45;&gt;2671978993424 -->\n",
       "<g class=\"edge\" id=\"edge4\"><title>2671741223768-&gt;2671978993424</title>\n",
       "<path d=\"M996.913,-249.366C997.623,-241.152 998.443,-231.658 999.215,-222.725\" fill=\"none\" stroke=\"black\"/>\n",
       "<polygon fill=\"black\" points=\"1002.72,-222.871 1000.09,-212.607 995.741,-222.268 1002.72,-222.871\" stroke=\"black\"/>\n",
       "</g>\n",
       "<!-- 2671869209736 -->\n",
       "<g class=\"node\" id=\"node6\"><title>2671869209736</title>\n",
       "<polygon fill=\"none\" points=\"1162.5,-166.5 1162.5,-212.5 1449.5,-212.5 1449.5,-166.5 1162.5,-166.5\" stroke=\"black\"/>\n",
       "<text font-family=\"Times New Roman,serif\" font-size=\"14.00\" text-anchor=\"middle\" x=\"1215.5\" y=\"-185.8\">resnet50: Model</text>\n",
       "<polyline fill=\"none\" points=\"1268.5,-166.5 1268.5,-212.5 \" stroke=\"black\"/>\n",
       "<text font-family=\"Times New Roman,serif\" font-size=\"14.00\" text-anchor=\"middle\" x=\"1296.5\" y=\"-197.3\">input:</text>\n",
       "<polyline fill=\"none\" points=\"1268.5,-189.5 1324.5,-189.5 \" stroke=\"black\"/>\n",
       "<text font-family=\"Times New Roman,serif\" font-size=\"14.00\" text-anchor=\"middle\" x=\"1296.5\" y=\"-174.3\">output:</text>\n",
       "<polyline fill=\"none\" points=\"1324.5,-166.5 1324.5,-212.5 \" stroke=\"black\"/>\n",
       "<text font-family=\"Times New Roman,serif\" font-size=\"14.00\" text-anchor=\"middle\" x=\"1387\" y=\"-197.3\">(None, 229, 229, 3)</text>\n",
       "<polyline fill=\"none\" points=\"1324.5,-189.5 1449.5,-189.5 \" stroke=\"black\"/>\n",
       "<text font-family=\"Times New Roman,serif\" font-size=\"14.00\" text-anchor=\"middle\" x=\"1387\" y=\"-174.3\">(None, 2048)</text>\n",
       "</g>\n",
       "<!-- 2671975898360&#45;&gt;2671869209736 -->\n",
       "<g class=\"edge\" id=\"edge5\"><title>2671975898360-&gt;2671869209736</title>\n",
       "<path d=\"M1308.91,-249.366C1308.5,-241.152 1308.03,-231.658 1307.59,-222.725\" fill=\"none\" stroke=\"black\"/>\n",
       "<polygon fill=\"black\" points=\"1311.08,-222.422 1307.09,-212.607 1304.09,-222.767 1311.08,-222.422\" stroke=\"black\"/>\n",
       "</g>\n",
       "<!-- 2671876275952 -->\n",
       "<g class=\"node\" id=\"node7\"><title>2671876275952</title>\n",
       "<polygon fill=\"none\" points=\"949.5,-83.5 949.5,-129.5 1358.5,-129.5 1358.5,-83.5 949.5,-83.5\" stroke=\"black\"/>\n",
       "<text font-family=\"Times New Roman,serif\" font-size=\"14.00\" text-anchor=\"middle\" x=\"1036\" y=\"-102.8\">concatenate_5: Concatenate</text>\n",
       "<polyline fill=\"none\" points=\"1122.5,-83.5 1122.5,-129.5 \" stroke=\"black\"/>\n",
       "<text font-family=\"Times New Roman,serif\" font-size=\"14.00\" text-anchor=\"middle\" x=\"1150.5\" y=\"-114.3\">input:</text>\n",
       "<polyline fill=\"none\" points=\"1122.5,-106.5 1178.5,-106.5 \" stroke=\"black\"/>\n",
       "<text font-family=\"Times New Roman,serif\" font-size=\"14.00\" text-anchor=\"middle\" x=\"1150.5\" y=\"-91.3\">output:</text>\n",
       "<polyline fill=\"none\" points=\"1178.5,-83.5 1178.5,-129.5 \" stroke=\"black\"/>\n",
       "<text font-family=\"Times New Roman,serif\" font-size=\"14.00\" text-anchor=\"middle\" x=\"1268.5\" y=\"-114.3\">[(None, 4032), (None, 2048)]</text>\n",
       "<polyline fill=\"none\" points=\"1178.5,-106.5 1358.5,-106.5 \" stroke=\"black\"/>\n",
       "<text font-family=\"Times New Roman,serif\" font-size=\"14.00\" text-anchor=\"middle\" x=\"1268.5\" y=\"-91.3\">(None, 6080)</text>\n",
       "</g>\n",
       "<!-- 2671978993424&#45;&gt;2671876275952 -->\n",
       "<g class=\"edge\" id=\"edge6\"><title>2671978993424-&gt;2671876275952</title>\n",
       "<path d=\"M1043.53,-166.366C1062.05,-156.5 1084.03,-144.788 1103.48,-134.419\" fill=\"none\" stroke=\"black\"/>\n",
       "<polygon fill=\"black\" points=\"1105.34,-137.399 1112.52,-129.607 1102.04,-131.221 1105.34,-137.399\" stroke=\"black\"/>\n",
       "</g>\n",
       "<!-- 2671869209736&#45;&gt;2671876275952 -->\n",
       "<g class=\"edge\" id=\"edge7\"><title>2671869209736-&gt;2671876275952</title>\n",
       "<path d=\"M1264.47,-166.366C1245.95,-156.5 1223.97,-144.788 1204.52,-134.419\" fill=\"none\" stroke=\"black\"/>\n",
       "<polygon fill=\"black\" points=\"1205.96,-131.221 1195.48,-129.607 1202.66,-137.399 1205.96,-131.221\" stroke=\"black\"/>\n",
       "</g>\n",
       "<!-- 2671877844216 -->\n",
       "<g class=\"node\" id=\"node8\"><title>2671877844216</title>\n",
       "<polygon fill=\"none\" points=\"0,-0.5 0,-46.5 268,-46.5 268,-0.5 0,-0.5\" stroke=\"black\"/>\n",
       "<text font-family=\"Times New Roman,serif\" font-size=\"14.00\" text-anchor=\"middle\" x=\"61\" y=\"-19.8\">skirt_length: Dense</text>\n",
       "<polyline fill=\"none\" points=\"122,-0.5 122,-46.5 \" stroke=\"black\"/>\n",
       "<text font-family=\"Times New Roman,serif\" font-size=\"14.00\" text-anchor=\"middle\" x=\"150\" y=\"-31.3\">input:</text>\n",
       "<polyline fill=\"none\" points=\"122,-23.5 178,-23.5 \" stroke=\"black\"/>\n",
       "<text font-family=\"Times New Roman,serif\" font-size=\"14.00\" text-anchor=\"middle\" x=\"150\" y=\"-8.3\">output:</text>\n",
       "<polyline fill=\"none\" points=\"178,-0.5 178,-46.5 \" stroke=\"black\"/>\n",
       "<text font-family=\"Times New Roman,serif\" font-size=\"14.00\" text-anchor=\"middle\" x=\"223\" y=\"-31.3\">(None, 6080)</text>\n",
       "<polyline fill=\"none\" points=\"178,-23.5 268,-23.5 \" stroke=\"black\"/>\n",
       "<text font-family=\"Times New Roman,serif\" font-size=\"14.00\" text-anchor=\"middle\" x=\"223\" y=\"-8.3\">(None, 6)</text>\n",
       "</g>\n",
       "<!-- 2671876275952&#45;&gt;2671877844216 -->\n",
       "<g class=\"edge\" id=\"edge8\"><title>2671876275952-&gt;2671877844216</title>\n",
       "<path d=\"M949.311,-97.0332C773.8,-88.5536 514.041,-73.1093 278.437,-47.1158\" fill=\"none\" stroke=\"black\"/>\n",
       "<polygon fill=\"black\" points=\"278.626,-43.6152 268.3,-45.9891 277.852,-50.5724 278.626,-43.6152\" stroke=\"black\"/>\n",
       "</g>\n",
       "<!-- 2672939289456 -->\n",
       "<g class=\"node\" id=\"node9\"><title>2672939289456</title>\n",
       "<polygon fill=\"none\" points=\"286,-0.5 286,-46.5 554,-46.5 554,-0.5 286,-0.5\" stroke=\"black\"/>\n",
       "<text font-family=\"Times New Roman,serif\" font-size=\"14.00\" text-anchor=\"middle\" x=\"347\" y=\"-19.8\">coat_length: Dense</text>\n",
       "<polyline fill=\"none\" points=\"408,-0.5 408,-46.5 \" stroke=\"black\"/>\n",
       "<text font-family=\"Times New Roman,serif\" font-size=\"14.00\" text-anchor=\"middle\" x=\"436\" y=\"-31.3\">input:</text>\n",
       "<polyline fill=\"none\" points=\"408,-23.5 464,-23.5 \" stroke=\"black\"/>\n",
       "<text font-family=\"Times New Roman,serif\" font-size=\"14.00\" text-anchor=\"middle\" x=\"436\" y=\"-8.3\">output:</text>\n",
       "<polyline fill=\"none\" points=\"464,-0.5 464,-46.5 \" stroke=\"black\"/>\n",
       "<text font-family=\"Times New Roman,serif\" font-size=\"14.00\" text-anchor=\"middle\" x=\"509\" y=\"-31.3\">(None, 6080)</text>\n",
       "<polyline fill=\"none\" points=\"464,-23.5 554,-23.5 \" stroke=\"black\"/>\n",
       "<text font-family=\"Times New Roman,serif\" font-size=\"14.00\" text-anchor=\"middle\" x=\"509\" y=\"-8.3\">(None, 8)</text>\n",
       "</g>\n",
       "<!-- 2671876275952&#45;&gt;2672939289456 -->\n",
       "<g class=\"edge\" id=\"edge9\"><title>2671876275952-&gt;2672939289456</title>\n",
       "<path d=\"M949.221,-88.1442C838.096,-78.0125 698.118,-64.1018 564.346,-47.1422\" fill=\"none\" stroke=\"black\"/>\n",
       "<polygon fill=\"black\" points=\"564.678,-43.6563 554.315,-45.8633 563.792,-50.6001 564.678,-43.6563\" stroke=\"black\"/>\n",
       "</g>\n",
       "<!-- 2672939881136 -->\n",
       "<g class=\"node\" id=\"node10\"><title>2672939881136</title>\n",
       "<polygon fill=\"none\" points=\"572,-0.5 572,-46.5 850,-46.5 850,-0.5 572,-0.5\" stroke=\"black\"/>\n",
       "<text font-family=\"Times New Roman,serif\" font-size=\"14.00\" text-anchor=\"middle\" x=\"638\" y=\"-19.8\">collar_design: Dense</text>\n",
       "<polyline fill=\"none\" points=\"704,-0.5 704,-46.5 \" stroke=\"black\"/>\n",
       "<text font-family=\"Times New Roman,serif\" font-size=\"14.00\" text-anchor=\"middle\" x=\"732\" y=\"-31.3\">input:</text>\n",
       "<polyline fill=\"none\" points=\"704,-23.5 760,-23.5 \" stroke=\"black\"/>\n",
       "<text font-family=\"Times New Roman,serif\" font-size=\"14.00\" text-anchor=\"middle\" x=\"732\" y=\"-8.3\">output:</text>\n",
       "<polyline fill=\"none\" points=\"760,-0.5 760,-46.5 \" stroke=\"black\"/>\n",
       "<text font-family=\"Times New Roman,serif\" font-size=\"14.00\" text-anchor=\"middle\" x=\"805\" y=\"-31.3\">(None, 6080)</text>\n",
       "<polyline fill=\"none\" points=\"760,-23.5 850,-23.5 \" stroke=\"black\"/>\n",
       "<text font-family=\"Times New Roman,serif\" font-size=\"14.00\" text-anchor=\"middle\" x=\"805\" y=\"-8.3\">(None, 5)</text>\n",
       "</g>\n",
       "<!-- 2671876275952&#45;&gt;2672939881136 -->\n",
       "<g class=\"edge\" id=\"edge10\"><title>2671876275952-&gt;2672939881136</title>\n",
       "<path d=\"M1033.53,-83.4734C974.072,-72.6011 902.247,-59.4683 841.484,-48.3582\" fill=\"none\" stroke=\"black\"/>\n",
       "<polygon fill=\"black\" points=\"841.909,-44.878 831.443,-46.5222 840.65,-51.7639 841.909,-44.878\" stroke=\"black\"/>\n",
       "</g>\n",
       "<!-- 2672939980336 -->\n",
       "<g class=\"node\" id=\"node11\"><title>2672939980336</title>\n",
       "<polygon fill=\"none\" points=\"868,-0.5 868,-46.5 1146,-46.5 1146,-0.5 868,-0.5\" stroke=\"black\"/>\n",
       "<text font-family=\"Times New Roman,serif\" font-size=\"14.00\" text-anchor=\"middle\" x=\"934\" y=\"-19.8\">sleeve_length: Dense</text>\n",
       "<polyline fill=\"none\" points=\"1000,-0.5 1000,-46.5 \" stroke=\"black\"/>\n",
       "<text font-family=\"Times New Roman,serif\" font-size=\"14.00\" text-anchor=\"middle\" x=\"1028\" y=\"-31.3\">input:</text>\n",
       "<polyline fill=\"none\" points=\"1000,-23.5 1056,-23.5 \" stroke=\"black\"/>\n",
       "<text font-family=\"Times New Roman,serif\" font-size=\"14.00\" text-anchor=\"middle\" x=\"1028\" y=\"-8.3\">output:</text>\n",
       "<polyline fill=\"none\" points=\"1056,-0.5 1056,-46.5 \" stroke=\"black\"/>\n",
       "<text font-family=\"Times New Roman,serif\" font-size=\"14.00\" text-anchor=\"middle\" x=\"1101\" y=\"-31.3\">(None, 6080)</text>\n",
       "<polyline fill=\"none\" points=\"1056,-23.5 1146,-23.5 \" stroke=\"black\"/>\n",
       "<text font-family=\"Times New Roman,serif\" font-size=\"14.00\" text-anchor=\"middle\" x=\"1101\" y=\"-8.3\">(None, 9)</text>\n",
       "</g>\n",
       "<!-- 2671876275952&#45;&gt;2672939980336 -->\n",
       "<g class=\"edge\" id=\"edge11\"><title>2671876275952-&gt;2672939980336</title>\n",
       "<path d=\"M1113.83,-83.3664C1096.01,-73.5444 1074.86,-61.894 1056.11,-51.5602\" fill=\"none\" stroke=\"black\"/>\n",
       "<polygon fill=\"black\" points=\"1057.57,-48.3675 1047.12,-46.6068 1054.19,-54.4984 1057.57,-48.3675\" stroke=\"black\"/>\n",
       "</g>\n",
       "<!-- 2672940087728 -->\n",
       "<g class=\"node\" id=\"node12\"><title>2672940087728</title>\n",
       "<polygon fill=\"none\" points=\"1164,-0.5 1164,-46.5 1438,-46.5 1438,-0.5 1164,-0.5\" stroke=\"black\"/>\n",
       "<text font-family=\"Times New Roman,serif\" font-size=\"14.00\" text-anchor=\"middle\" x=\"1228\" y=\"-19.8\">neck_design: Dense</text>\n",
       "<polyline fill=\"none\" points=\"1292,-0.5 1292,-46.5 \" stroke=\"black\"/>\n",
       "<text font-family=\"Times New Roman,serif\" font-size=\"14.00\" text-anchor=\"middle\" x=\"1320\" y=\"-31.3\">input:</text>\n",
       "<polyline fill=\"none\" points=\"1292,-23.5 1348,-23.5 \" stroke=\"black\"/>\n",
       "<text font-family=\"Times New Roman,serif\" font-size=\"14.00\" text-anchor=\"middle\" x=\"1320\" y=\"-8.3\">output:</text>\n",
       "<polyline fill=\"none\" points=\"1348,-0.5 1348,-46.5 \" stroke=\"black\"/>\n",
       "<text font-family=\"Times New Roman,serif\" font-size=\"14.00\" text-anchor=\"middle\" x=\"1393\" y=\"-31.3\">(None, 6080)</text>\n",
       "<polyline fill=\"none\" points=\"1348,-23.5 1438,-23.5 \" stroke=\"black\"/>\n",
       "<text font-family=\"Times New Roman,serif\" font-size=\"14.00\" text-anchor=\"middle\" x=\"1393\" y=\"-8.3\">(None, 5)</text>\n",
       "</g>\n",
       "<!-- 2671876275952&#45;&gt;2672940087728 -->\n",
       "<g class=\"edge\" id=\"edge12\"><title>2671876275952-&gt;2672940087728</title>\n",
       "<path d=\"M1194.17,-83.3664C1211.99,-73.5444 1233.14,-61.894 1251.89,-51.5602\" fill=\"none\" stroke=\"black\"/>\n",
       "<polygon fill=\"black\" points=\"1253.81,-54.4984 1260.88,-46.6068 1250.43,-48.3675 1253.81,-54.4984\" stroke=\"black\"/>\n",
       "</g>\n",
       "<!-- 2672940303808 -->\n",
       "<g class=\"node\" id=\"node13\"><title>2672940303808</title>\n",
       "<polygon fill=\"none\" points=\"1456,-0.5 1456,-46.5 1748,-46.5 1748,-0.5 1456,-0.5\" stroke=\"black\"/>\n",
       "<text font-family=\"Times New Roman,serif\" font-size=\"14.00\" text-anchor=\"middle\" x=\"1529\" y=\"-19.8\">neckline_design: Dense</text>\n",
       "<polyline fill=\"none\" points=\"1602,-0.5 1602,-46.5 \" stroke=\"black\"/>\n",
       "<text font-family=\"Times New Roman,serif\" font-size=\"14.00\" text-anchor=\"middle\" x=\"1630\" y=\"-31.3\">input:</text>\n",
       "<polyline fill=\"none\" points=\"1602,-23.5 1658,-23.5 \" stroke=\"black\"/>\n",
       "<text font-family=\"Times New Roman,serif\" font-size=\"14.00\" text-anchor=\"middle\" x=\"1630\" y=\"-8.3\">output:</text>\n",
       "<polyline fill=\"none\" points=\"1658,-0.5 1658,-46.5 \" stroke=\"black\"/>\n",
       "<text font-family=\"Times New Roman,serif\" font-size=\"14.00\" text-anchor=\"middle\" x=\"1703\" y=\"-31.3\">(None, 6080)</text>\n",
       "<polyline fill=\"none\" points=\"1658,-23.5 1748,-23.5 \" stroke=\"black\"/>\n",
       "<text font-family=\"Times New Roman,serif\" font-size=\"14.00\" text-anchor=\"middle\" x=\"1703\" y=\"-8.3\">(None, 10)</text>\n",
       "</g>\n",
       "<!-- 2671876275952&#45;&gt;2672940303808 -->\n",
       "<g class=\"edge\" id=\"edge13\"><title>2671876275952-&gt;2672940303808</title>\n",
       "<path d=\"M1275.83,-83.4734C1335.96,-72.6011 1408.59,-59.4683 1470.04,-48.3582\" fill=\"none\" stroke=\"black\"/>\n",
       "<polygon fill=\"black\" points=\"1470.98,-51.7457 1480.2,-46.5222 1469.73,-44.8573 1470.98,-51.7457\" stroke=\"black\"/>\n",
       "</g>\n",
       "<!-- 2672940402896 -->\n",
       "<g class=\"node\" id=\"node14\"><title>2672940402896</title>\n",
       "<polygon fill=\"none\" points=\"1766,-0.5 1766,-46.5 2034,-46.5 2034,-0.5 1766,-0.5\" stroke=\"black\"/>\n",
       "<text font-family=\"Times New Roman,serif\" font-size=\"14.00\" text-anchor=\"middle\" x=\"1827\" y=\"-19.8\">pant_length: Dense</text>\n",
       "<polyline fill=\"none\" points=\"1888,-0.5 1888,-46.5 \" stroke=\"black\"/>\n",
       "<text font-family=\"Times New Roman,serif\" font-size=\"14.00\" text-anchor=\"middle\" x=\"1916\" y=\"-31.3\">input:</text>\n",
       "<polyline fill=\"none\" points=\"1888,-23.5 1944,-23.5 \" stroke=\"black\"/>\n",
       "<text font-family=\"Times New Roman,serif\" font-size=\"14.00\" text-anchor=\"middle\" x=\"1916\" y=\"-8.3\">output:</text>\n",
       "<polyline fill=\"none\" points=\"1944,-0.5 1944,-46.5 \" stroke=\"black\"/>\n",
       "<text font-family=\"Times New Roman,serif\" font-size=\"14.00\" text-anchor=\"middle\" x=\"1989\" y=\"-31.3\">(None, 6080)</text>\n",
       "<polyline fill=\"none\" points=\"1944,-23.5 2034,-23.5 \" stroke=\"black\"/>\n",
       "<text font-family=\"Times New Roman,serif\" font-size=\"14.00\" text-anchor=\"middle\" x=\"1989\" y=\"-8.3\">(None, 6)</text>\n",
       "</g>\n",
       "<!-- 2671876275952&#45;&gt;2672940402896 -->\n",
       "<g class=\"edge\" id=\"edge14\"><title>2671876275952-&gt;2672940402896</title>\n",
       "<path d=\"M1358.78,-88.6723C1472.9,-78.5522 1617.78,-64.4821 1755.76,-47.1262\" fill=\"none\" stroke=\"black\"/>\n",
       "<polygon fill=\"black\" points=\"1756.2,-50.5984 1765.69,-45.8709 1755.33,-43.6538 1756.2,-50.5984\" stroke=\"black\"/>\n",
       "</g>\n",
       "<!-- 2672940622400 -->\n",
       "<g class=\"node\" id=\"node15\"><title>2672940622400</title>\n",
       "<polygon fill=\"none\" points=\"2052.5,-0.5 2052.5,-46.5 2325.5,-46.5 2325.5,-0.5 2052.5,-0.5\" stroke=\"black\"/>\n",
       "<text font-family=\"Times New Roman,serif\" font-size=\"14.00\" text-anchor=\"middle\" x=\"2116\" y=\"-19.8\">lapel_design: Dense</text>\n",
       "<polyline fill=\"none\" points=\"2179.5,-0.5 2179.5,-46.5 \" stroke=\"black\"/>\n",
       "<text font-family=\"Times New Roman,serif\" font-size=\"14.00\" text-anchor=\"middle\" x=\"2207.5\" y=\"-31.3\">input:</text>\n",
       "<polyline fill=\"none\" points=\"2179.5,-23.5 2235.5,-23.5 \" stroke=\"black\"/>\n",
       "<text font-family=\"Times New Roman,serif\" font-size=\"14.00\" text-anchor=\"middle\" x=\"2207.5\" y=\"-8.3\">output:</text>\n",
       "<polyline fill=\"none\" points=\"2235.5,-0.5 2235.5,-46.5 \" stroke=\"black\"/>\n",
       "<text font-family=\"Times New Roman,serif\" font-size=\"14.00\" text-anchor=\"middle\" x=\"2280.5\" y=\"-31.3\">(None, 6080)</text>\n",
       "<polyline fill=\"none\" points=\"2235.5,-23.5 2325.5,-23.5 \" stroke=\"black\"/>\n",
       "<text font-family=\"Times New Roman,serif\" font-size=\"14.00\" text-anchor=\"middle\" x=\"2280.5\" y=\"-8.3\">(None, 5)</text>\n",
       "</g>\n",
       "<!-- 2671876275952&#45;&gt;2672940622400 -->\n",
       "<g class=\"edge\" id=\"edge15\"><title>2671876275952-&gt;2672940622400</title>\n",
       "<path d=\"M1358.79,-97.1C1536.8,-88.606 1801.74,-73.1 2042.28,-47.0315\" fill=\"none\" stroke=\"black\"/>\n",
       "<polygon fill=\"black\" points=\"2042.71,-50.5057 2052.27,-45.9413 2041.95,-43.5471 2042.71,-50.5057\" stroke=\"black\"/>\n",
       "</g>\n",
       "</g>\n",
       "</svg>"
      ],
      "text/plain": [
       "<IPython.core.display.SVG object>"
      ]
     },
     "execution_count": 10,
     "metadata": {},
     "output_type": "execute_result"
    }
   ],
   "source": [
    "width = 229\n",
    "\n",
    "\n",
    "\n",
    "base_model = NASNetLarge(weights='imagenet', input_shape=(width, width, 3), include_top=False, pooling='avg')\n",
    "\n",
    "input_tensor = Input((width, width, 3))\n",
    "x = input_tensor\n",
    "\n",
    "x = Lambda(nasnet.preprocess_input)(x)\n",
    "x = base_model(x)\n",
    "x = Dropout(0.5)(x)\n",
    "\n",
    "x = [Dense(count, activation='softmax', name=name)(x) for name, count in label_count.items()]\n",
    "\n",
    "model = Model(input_tensor, x)\n",
    "model.compile(optimizer='adam', loss='categorical_crossentropy', metrics=['acc'])\n",
    "\n",
    "from IPython.display import SVG\n",
    "from keras.utils.vis_utils import model_to_dot, plot_model\n",
    "\n",
    "plot_model(model, show_shapes=True, to_file='model_simple.png')\n",
    "SVG(model_to_dot(model, show_shapes=True).create(prog='dot', format='svg'))"
   ]
  },
  {
   "cell_type": "code",
   "execution_count": 15,
   "metadata": {
    "ExecuteTime": {
     "end_time": "2018-04-07T17:27:36.541858Z",
     "start_time": "2018-04-07T17:25:14.610710Z"
    },
    "collapsed": true
   },
   "outputs": [],
   "source": [
    "model2 = multi_gpu_model(model, n_gpus)"
   ]
  },
  {
   "cell_type": "code",
   "execution_count": 16,
   "metadata": {
    "ExecuteTime": {
     "end_time": "2018-04-07T17:27:36.545662Z",
     "start_time": "2018-04-07T17:27:36.543513Z"
    },
    "collapsed": true
   },
   "outputs": [],
   "source": [
    "# opt = SGD(1e-3, momentum=0.9, nesterov=True, decay=1e-5)"
   ]
  },
  {
   "cell_type": "code",
   "execution_count": 17,
   "metadata": {
    "ExecuteTime": {
     "end_time": "2018-04-07T19:26:22.717817Z",
     "start_time": "2018-04-07T17:27:36.547216Z"
    },
    "scrolled": false
   },
   "outputs": [
    {
     "name": "stdout",
     "output_type": "stream",
     "text": [
      "Epoch 1/2\n",
      "1990/1990 [==============================] - 3637s 2s/step - loss: 0.9191 - skirt_length_loss: 0.0899 - collar_design_loss: 0.0950 - coat_length_loss: 0.1324 - pant_length_loss: 0.0665 - neckline_design_loss: 0.2276 - lapel_design_loss: 0.0754 - sleeve_length_loss: 0.1565 - neck_design_loss: 0.0758 - skirt_length_acc: 0.7035 - collar_design_acc: 0.6344 - coat_length_acc: 0.6599 - pant_length_acc: 0.6951 - neckline_design_acc: 0.6305 - lapel_design_acc: 0.6307 - sleeve_length_acc: 0.6449 - neck_design_acc: 0.5332 - val_loss: 0.6083 - val_skirt_length_loss: 0.0512 - val_collar_design_loss: 0.0676 - val_coat_length_loss: 0.0879 - val_pant_length_loss: 0.0449 - val_neckline_design_loss: 0.1584 - val_lapel_design_loss: 0.0478 - val_sleeve_length_loss: 0.0960 - val_neck_design_loss: 0.0545 - val_skirt_length_acc: 0.5910 - val_collar_design_acc: 0.5061 - val_coat_length_acc: 0.6075 - val_pant_length_acc: 0.5270 - val_neckline_design_acc: 0.6930 - val_lapel_design_acc: 0.4736 - val_sleeve_length_acc: 0.6544 - val_neck_design_acc: 0.3755\n",
      "Epoch 2/2\n",
      "1990/1990 [==============================] - 3440s 2s/step - loss: 0.5394 - skirt_length_loss: 0.0565 - collar_design_loss: 0.0582 - coat_length_loss: 0.0797 - pant_length_loss: 0.0391 - neckline_design_loss: 0.1297 - lapel_design_loss: 0.0422 - sleeve_length_loss: 0.0853 - neck_design_loss: 0.0489 - skirt_length_acc: 0.8123 - collar_design_acc: 0.7756 - coat_length_acc: 0.7939 - pant_length_acc: 0.8053 - neckline_design_acc: 0.7990 - lapel_design_acc: 0.7909 - sleeve_length_acc: 0.8148 - neck_design_acc: 0.6859 - val_loss: 0.5533 - val_skirt_length_loss: 0.0458 - val_collar_design_loss: 0.0624 - val_coat_length_loss: 0.0826 - val_pant_length_loss: 0.0409 - val_neckline_design_loss: 0.1371 - val_lapel_design_loss: 0.0490 - val_sleeve_length_loss: 0.0908 - val_neck_design_loss: 0.0448 - val_skirt_length_acc: 0.6060 - val_collar_design_acc: 0.5263 - val_coat_length_acc: 0.6107 - val_pant_length_acc: 0.5369 - val_neckline_design_acc: 0.7293 - val_lapel_design_acc: 0.4752 - val_sleeve_length_acc: 0.6794 - val_neck_design_acc: 0.3972\n"
     ]
    },
    {
     "data": {
      "text/plain": [
       "<keras.callbacks.History at 0x7f842eb77e48>"
      ]
     },
     "execution_count": 17,
     "metadata": {},
     "output_type": "execute_result"
    }
   ],
   "source": [
    "model2.compile(optimizer=Adam(1e-4), loss='categorical_crossentropy', metrics=[acc])\n",
    "model2.fit_generator(gen_train.generator, steps_per_epoch=gen_train.steps, epochs=2, validation_data=(X_valid, y_valid))"
   ]
  },
  {
   "cell_type": "code",
   "execution_count": 18,
   "metadata": {
    "ExecuteTime": {
     "end_time": "2018-04-07T22:02:58.261416Z",
     "start_time": "2018-04-07T19:26:22.719422Z"
    },
    "scrolled": true
   },
   "outputs": [
    {
     "name": "stdout",
     "output_type": "stream",
     "text": [
      "Epoch 1/3\n",
      "1990/1990 [==============================] - 3266s 2s/step - loss: 0.3240 - skirt_length_loss: 0.0344 - collar_design_loss: 0.0373 - coat_length_loss: 0.0482 - pant_length_loss: 0.0250 - neckline_design_loss: 0.0757 - lapel_design_loss: 0.0225 - sleeve_length_loss: 0.0507 - neck_design_loss: 0.0301 - skirt_length_acc: 0.8773 - collar_design_acc: 0.8431 - coat_length_acc: 0.8804 - pant_length_acc: 0.8643 - neckline_design_acc: 0.8781 - lapel_design_acc: 0.8650 - sleeve_length_acc: 0.8903 - neck_design_acc: 0.7746 - val_loss: 0.4108 - val_skirt_length_loss: 0.0391 - val_collar_design_loss: 0.0455 - val_coat_length_loss: 0.0607 - val_pant_length_loss: 0.0323 - val_neckline_design_loss: 0.1020 - val_lapel_design_loss: 0.0334 - val_sleeve_length_loss: 0.0597 - val_neck_design_loss: 0.0381 - val_skirt_length_acc: 0.8545 - val_collar_design_acc: 0.8131 - val_coat_length_acc: 0.8499 - val_pant_length_acc: 0.8483 - val_neckline_design_acc: 0.8577 - val_lapel_design_acc: 0.8234 - val_sleeve_length_acc: 0.8697 - val_neck_design_acc: 0.7461\n",
      "Epoch 2/3\n",
      "1990/1990 [==============================] - 3040s 2s/step - loss: 0.2606 - skirt_length_loss: 0.0275 - collar_design_loss: 0.0299 - coat_length_loss: 0.0387 - pant_length_loss: 0.0200 - neckline_design_loss: 0.0625 - lapel_design_loss: 0.0173 - sleeve_length_loss: 0.0393 - neck_design_loss: 0.0254 - skirt_length_acc: 0.8938 - collar_design_acc: 0.8746 - coat_length_acc: 0.9028 - pant_length_acc: 0.8820 - neckline_design_acc: 0.9028 - lapel_design_acc: 0.8885 - sleeve_length_acc: 0.9103 - neck_design_acc: 0.7941 - val_loss: 0.4006 - val_skirt_length_loss: 0.0386 - val_collar_design_loss: 0.0443 - val_coat_length_loss: 0.0593 - val_pant_length_loss: 0.0324 - val_neckline_design_loss: 0.0994 - val_lapel_design_loss: 0.0313 - val_sleeve_length_loss: 0.0576 - val_neck_design_loss: 0.0376 - val_skirt_length_acc: 0.8546 - val_collar_design_acc: 0.8135 - val_coat_length_acc: 0.8502 - val_pant_length_acc: 0.8590 - val_neckline_design_acc: 0.8616 - val_lapel_design_acc: 0.8357 - val_sleeve_length_acc: 0.8771 - val_neck_design_acc: 0.7506\n",
      "Epoch 3/3\n",
      "1990/1990 [==============================] - 3039s 2s/step - loss: 0.2268 - skirt_length_loss: 0.0244 - collar_design_loss: 0.0258 - coat_length_loss: 0.0337 - pant_length_loss: 0.0175 - neckline_design_loss: 0.0552 - lapel_design_loss: 0.0139 - sleeve_length_loss: 0.0338 - neck_design_loss: 0.0224 - skirt_length_acc: 0.9022 - collar_design_acc: 0.8864 - coat_length_acc: 0.9156 - pant_length_acc: 0.8942 - neckline_design_acc: 0.9120 - lapel_design_acc: 0.8995 - sleeve_length_acc: 0.9294 - neck_design_acc: 0.8086 - val_loss: 0.3984 - val_skirt_length_loss: 0.0380 - val_collar_design_loss: 0.0448 - val_coat_length_loss: 0.0584 - val_pant_length_loss: 0.0310 - val_neckline_design_loss: 0.0998 - val_lapel_design_loss: 0.0322 - val_sleeve_length_loss: 0.0573 - val_neck_design_loss: 0.0367 - val_skirt_length_acc: 0.8595 - val_collar_design_acc: 0.8226 - val_coat_length_acc: 0.8503 - val_pant_length_acc: 0.8603 - val_neckline_design_acc: 0.8641 - val_lapel_design_acc: 0.8359 - val_sleeve_length_acc: 0.8773 - val_neck_design_acc: 0.7527\n"
     ]
    },
    {
     "data": {
      "text/plain": [
       "<keras.callbacks.History at 0x7f83e3921b70>"
      ]
     },
     "execution_count": 18,
     "metadata": {},
     "output_type": "execute_result"
    }
   ],
   "source": [
    "model2.compile(optimizer=Adam(1e-5), loss='categorical_crossentropy', metrics=[acc])\n",
    "model2.fit_generator(gen_train.generator, steps_per_epoch=gen_train.steps, epochs=3, validation_data=(X_valid, y_valid))"
   ]
  },
  {
   "cell_type": "code",
   "execution_count": 19,
   "metadata": {
    "ExecuteTime": {
     "end_time": "2018-04-07T22:58:21.988308Z",
     "start_time": "2018-04-07T22:02:58.262769Z"
    }
   },
   "outputs": [
    {
     "name": "stdout",
     "output_type": "stream",
     "text": [
      "Epoch 1/1\n",
      "1990/1990 [==============================] - 3275s 2s/step - loss: 0.1859 - skirt_length_loss: 0.0203 - collar_design_loss: 0.0215 - coat_length_loss: 0.0262 - pant_length_loss: 0.0149 - neckline_design_loss: 0.0456 - lapel_design_loss: 0.0118 - sleeve_length_loss: 0.0269 - neck_design_loss: 0.0186 - skirt_length_acc: 0.9141 - collar_design_acc: 0.9001 - coat_length_acc: 0.9367 - pant_length_acc: 0.9030 - neckline_design_acc: 0.9278 - lapel_design_acc: 0.9106 - sleeve_length_acc: 0.9429 - neck_design_acc: 0.8237 - val_loss: 0.3961 - val_skirt_length_loss: 0.0376 - val_collar_design_loss: 0.0453 - val_coat_length_loss: 0.0584 - val_pant_length_loss: 0.0313 - val_neckline_design_loss: 0.0993 - val_lapel_design_loss: 0.0315 - val_sleeve_length_loss: 0.0570 - val_neck_design_loss: 0.0357 - val_skirt_length_acc: 0.8550 - val_collar_design_acc: 0.8224 - val_coat_length_acc: 0.8563 - val_pant_length_acc: 0.8618 - val_neckline_design_acc: 0.8626 - val_lapel_design_acc: 0.8400 - val_sleeve_length_acc: 0.8751 - val_neck_design_acc: 0.7569\n"
     ]
    },
    {
     "data": {
      "text/plain": [
       "<keras.callbacks.History at 0x7f83179491d0>"
      ]
     },
     "execution_count": 19,
     "metadata": {},
     "output_type": "execute_result"
    }
   ],
   "source": [
    "model2.compile(optimizer=Adam(1e-6), loss='categorical_crossentropy', metrics=[acc])\n",
    "model2.fit_generator(gen_train.generator, steps_per_epoch=gen_train.steps, epochs=1, validation_data=(X_valid, y_valid))"
   ]
  },
  {
   "cell_type": "markdown",
   "metadata": {},
   "source": [
    "# 计算验证集准确率"
   ]
  },
  {
   "cell_type": "code",
   "execution_count": 20,
   "metadata": {
    "ExecuteTime": {
     "end_time": "2018-04-07T22:58:53.275440Z",
     "start_time": "2018-04-07T22:58:21.990355Z"
    },
    "collapsed": true
   },
   "outputs": [],
   "source": [
    "model.save('model_%s.h5' % model_name)"
   ]
  },
  {
   "cell_type": "code",
   "execution_count": 1,
   "metadata": {
    "ExecuteTime": {
     "end_time": "2018-04-07T23:01:37.022671Z",
     "start_time": "2018-04-07T22:58:53.276890Z"
    }
   },
   "outputs": [
    {
     "ename": "NameError",
     "evalue": "name 'model2' is not defined",
     "output_type": "error",
     "traceback": [
      "\u001b[1;31m--------------------------------------------------------------------------\u001b[0m",
      "\u001b[1;31mNameError\u001b[0m                                Traceback (most recent call last)",
      "\u001b[1;32m<ipython-input-1-6cbcbd095588>\u001b[0m in \u001b[0;36m<module>\u001b[1;34m()\u001b[0m\n\u001b[1;32m----> 1\u001b[1;33m \u001b[0my_pred\u001b[0m \u001b[1;33m=\u001b[0m \u001b[0mmodel2\u001b[0m\u001b[1;33m.\u001b[0m\u001b[0mpredict\u001b[0m\u001b[1;33m(\u001b[0m\u001b[0mX_valid\u001b[0m\u001b[1;33m,\u001b[0m \u001b[0mbatch_size\u001b[0m\u001b[1;33m=\u001b[0m\u001b[1;36m128\u001b[0m\u001b[1;33m,\u001b[0m \u001b[0mverbose\u001b[0m\u001b[1;33m=\u001b[0m\u001b[1;36m1\u001b[0m\u001b[1;33m)\u001b[0m\u001b[1;33m\u001b[0m\u001b[0m\n\u001b[0m\u001b[0;32m      2\u001b[0m \u001b[0ma\u001b[0m \u001b[1;33m=\u001b[0m \u001b[0mnp\u001b[0m\u001b[1;33m.\u001b[0m\u001b[0marray\u001b[0m\u001b[1;33m(\u001b[0m\u001b[1;33m[\u001b[0m\u001b[0mx\u001b[0m\u001b[1;33m.\u001b[0m\u001b[0many\u001b[0m\u001b[1;33m(\u001b[0m\u001b[0maxis\u001b[0m\u001b[1;33m=\u001b[0m\u001b[1;33m-\u001b[0m\u001b[1;36m1\u001b[0m\u001b[1;33m)\u001b[0m \u001b[1;32mfor\u001b[0m \u001b[0mx\u001b[0m \u001b[1;32min\u001b[0m \u001b[0my_valid\u001b[0m\u001b[1;33m]\u001b[0m\u001b[1;33m)\u001b[0m\u001b[1;33m.\u001b[0m\u001b[0mT\u001b[0m\u001b[1;33m.\u001b[0m\u001b[0mastype\u001b[0m\u001b[1;33m(\u001b[0m\u001b[1;34m'uint8'\u001b[0m\u001b[1;33m)\u001b[0m\u001b[1;33m\u001b[0m\u001b[0m\n\u001b[0;32m      3\u001b[0m \u001b[0mb\u001b[0m \u001b[1;33m=\u001b[0m \u001b[1;33m[\u001b[0m\u001b[0mnp\u001b[0m\u001b[1;33m.\u001b[0m\u001b[0mwhere\u001b[0m\u001b[1;33m(\u001b[0m\u001b[1;33m(\u001b[0m\u001b[0ma\u001b[0m \u001b[1;33m==\u001b[0m \u001b[0mnp\u001b[0m\u001b[1;33m.\u001b[0m\u001b[0meye\u001b[0m\u001b[1;33m(\u001b[0m\u001b[1;36m8\u001b[0m\u001b[1;33m)\u001b[0m\u001b[1;33m[\u001b[0m\u001b[0mx\u001b[0m\u001b[1;33m]\u001b[0m\u001b[1;33m)\u001b[0m\u001b[1;33m.\u001b[0m\u001b[0mall\u001b[0m\u001b[1;33m(\u001b[0m\u001b[0maxis\u001b[0m\u001b[1;33m=\u001b[0m\u001b[1;33m-\u001b[0m\u001b[1;36m1\u001b[0m\u001b[1;33m)\u001b[0m\u001b[1;33m)\u001b[0m\u001b[1;33m[\u001b[0m\u001b[1;36m0\u001b[0m\u001b[1;33m]\u001b[0m \u001b[1;32mfor\u001b[0m \u001b[0mx\u001b[0m \u001b[1;32min\u001b[0m \u001b[0mrange\u001b[0m\u001b[1;33m(\u001b[0m\u001b[1;36m8\u001b[0m\u001b[1;33m)\u001b[0m\u001b[1;33m]\u001b[0m\u001b[1;33m\u001b[0m\u001b[0m\n\u001b[0;32m      4\u001b[0m \u001b[1;32mfor\u001b[0m \u001b[0mc\u001b[0m \u001b[1;32min\u001b[0m \u001b[0mrange\u001b[0m\u001b[1;33m(\u001b[0m\u001b[1;36m4\u001b[0m\u001b[1;33m)\u001b[0m\u001b[1;33m:\u001b[0m\u001b[1;33m\u001b[0m\u001b[0m\n\u001b[0;32m      5\u001b[0m     \u001b[0my_pred2\u001b[0m \u001b[1;33m=\u001b[0m \u001b[0my_pred\u001b[0m\u001b[1;33m[\u001b[0m\u001b[0mc\u001b[0m\u001b[1;33m]\u001b[0m\u001b[1;33m[\u001b[0m\u001b[0mb\u001b[0m\u001b[1;33m[\u001b[0m\u001b[0mc\u001b[0m\u001b[1;33m]\u001b[0m\u001b[1;33m]\u001b[0m\u001b[1;33m.\u001b[0m\u001b[0margmax\u001b[0m\u001b[1;33m(\u001b[0m\u001b[0maxis\u001b[0m\u001b[1;33m=\u001b[0m\u001b[1;33m-\u001b[0m\u001b[1;36m1\u001b[0m\u001b[1;33m)\u001b[0m\u001b[1;33m\u001b[0m\u001b[0m\n",
      "\u001b[1;31mNameError\u001b[0m: name 'model2' is not defined"
     ]
    }
   ],
   "source": [
    "y_pred = model2.predict(X_valid, batch_size=128, verbose=1)\n",
    "a = np.array([x.any(axis=-1) for x in y_valid]).T.astype('uint8')\n",
    "b = [np.where((a == np.eye(8)[x]).all(axis=-1))[0] for x in range(8)]\n",
    "for c in range(8):\n",
    "    y_pred2 = y_pred[c][b[c]].argmax(axis=-1)\n",
    "    y_true2 = y_valid[c][b[c]].argmax(axis=-1)\n",
    "    print(label_names[c], (y_pred2 == y_true2).mean())"
   ]
  },
  {
   "cell_type": "code",
   "execution_count": null,
   "metadata": {
    "collapsed": true
   },
   "outputs": [],
   "source": []
  },
  {
   "cell_type": "code",
   "execution_count": 22,
   "metadata": {
    "ExecuteTime": {
     "end_time": "2018-04-07T23:01:37.038867Z",
     "start_time": "2018-04-07T23:01:37.025054Z"
    }
   },
   "outputs": [
    {
     "data": {
      "text/plain": [
       "Counter({'coat_length': 11320,\n",
       "         'collar_design': 8393,\n",
       "         'lapel_design': 7034,\n",
       "         'neck_design': 5696,\n",
       "         'neckline_design': 17148,\n",
       "         'pant_length': 7460,\n",
       "         'skirt_length': 9223,\n",
       "         'sleeve_length': 13299})"
      ]
     },
     "execution_count": 22,
     "metadata": {},
     "output_type": "execute_result"
    }
   ],
   "source": [
    "counts = Counter(df.label_name)\n",
    "counts"
   ]
  },
  {
   "cell_type": "code",
   "execution_count": 23,
   "metadata": {
    "ExecuteTime": {
     "end_time": "2018-04-07T23:01:37.050973Z",
     "start_time": "2018-04-07T23:01:37.040700Z"
    }
   },
   "outputs": [
    {
     "name": "stdout",
     "output_type": "stream",
     "text": [
      "0.8713447116844438\n"
     ]
    }
   ],
   "source": [
    "s = 0\n",
    "n = 0\n",
    "for c in range(8):\n",
    "    y_pred2 = y_pred[c][b[c]].argmax(axis=-1)\n",
    "    y_true2 = y_valid[c][b[c]].argmax(axis=-1)\n",
    "    s += counts[label_names[c]] * (y_pred2 == y_true2).mean()\n",
    "    n += counts[label_names[c]]\n",
    "print(s / n)"
   ]
  },
  {
   "cell_type": "markdown",
   "metadata": {},
   "source": [
    "# 在测试集上预测"
   ]
  },
  {
   "cell_type": "code",
   "execution_count": 24,
   "metadata": {
    "ExecuteTime": {
     "end_time": "2018-04-07T23:01:37.075633Z",
     "start_time": "2018-04-07T23:01:37.052291Z"
    }
   },
   "outputs": [
    {
     "data": {
      "text/html": [
       "<div>\n",
       "<style scoped>\n",
       "    .dataframe tbody tr th:only-of-type {\n",
       "        vertical-align: middle;\n",
       "    }\n",
       "\n",
       "    .dataframe tbody tr th {\n",
       "        vertical-align: top;\n",
       "    }\n",
       "\n",
       "    .dataframe thead th {\n",
       "        text-align: right;\n",
       "    }\n",
       "</style>\n",
       "<table border=\"1\" class=\"dataframe\">\n",
       "  <thead>\n",
       "    <tr style=\"text-align: right;\">\n",
       "      <th></th>\n",
       "      <th>filename</th>\n",
       "      <th>label_name</th>\n",
       "      <th>label</th>\n",
       "    </tr>\n",
       "  </thead>\n",
       "  <tbody>\n",
       "    <tr>\n",
       "      <th>0</th>\n",
       "      <td>Images/collar_design_labels/60951f5761ea3a01d6...</td>\n",
       "      <td>collar_design_labels</td>\n",
       "      <td>?</td>\n",
       "    </tr>\n",
       "    <tr>\n",
       "      <th>1</th>\n",
       "      <td>Images/collar_design_labels/677e1183282769a3fe...</td>\n",
       "      <td>collar_design_labels</td>\n",
       "      <td>?</td>\n",
       "    </tr>\n",
       "    <tr>\n",
       "      <th>2</th>\n",
       "      <td>Images/collar_design_labels/3f5a2be205e5d253eb...</td>\n",
       "      <td>collar_design_labels</td>\n",
       "      <td>?</td>\n",
       "    </tr>\n",
       "    <tr>\n",
       "      <th>3</th>\n",
       "      <td>Images/collar_design_labels/1712bf3d7b57d779ad...</td>\n",
       "      <td>collar_design_labels</td>\n",
       "      <td>?</td>\n",
       "    </tr>\n",
       "    <tr>\n",
       "      <th>4</th>\n",
       "      <td>Images/collar_design_labels/0b2b4254f35ce3a41a...</td>\n",
       "      <td>collar_design_labels</td>\n",
       "      <td>?</td>\n",
       "    </tr>\n",
       "  </tbody>\n",
       "</table>\n",
       "</div>"
      ],
      "text/plain": [
       "                                            filename            label_name  \\\n",
       "0  Images/collar_design_labels/60951f5761ea3a01d6...  collar_design_labels   \n",
       "1  Images/collar_design_labels/677e1183282769a3fe...  collar_design_labels   \n",
       "2  Images/collar_design_labels/3f5a2be205e5d253eb...  collar_design_labels   \n",
       "3  Images/collar_design_labels/1712bf3d7b57d779ad...  collar_design_labels   \n",
       "4  Images/collar_design_labels/0b2b4254f35ce3a41a...  collar_design_labels   \n",
       "\n",
       "  label  \n",
       "0     ?  \n",
       "1     ?  \n",
       "2     ?  \n",
       "3     ?  \n",
       "4     ?  "
      ]
     },
     "execution_count": 24,
     "metadata": {},
     "output_type": "execute_result"
    }
   ],
   "source": [
    "df_test = pd.read_csv('rank/Tests/question.csv', header=None)\n",
    "df_test.columns = ['filename', 'label_name', 'label']\n",
    "\n",
    "fnames_test = df_test.filename\n",
    "\n",
    "n_test = len(df_test)\n",
    "df_test.head()"
   ]
  },
  {
   "cell_type": "code",
   "execution_count": 25,
   "metadata": {
    "ExecuteTime": {
     "end_time": "2018-04-07T23:01:53.661369Z",
     "start_time": "2018-04-07T23:01:37.077016Z"
    }
   },
   "outputs": [
    {
     "name": "stderr",
     "output_type": "stream",
     "text": [
      "100%|██████████| 10080/10080 [00:14<00:00, 682.05it/s]\n"
     ]
    }
   ],
   "source": [
    "def f(index):\n",
    "    return index, cv2.resize(cv2.imread('rank/'+fnames_test[index]), (width, width))\n",
    "\n",
    "X_test = np.zeros((n_test, width, width, 3), dtype=np.uint8)\n",
    "with multiprocessing.Pool(12) as pool:\n",
    "    with tqdm(pool.imap_unordered(f, range(n_test)), total=n_test) as pbar:\n",
    "        for i, img in pbar:\n",
    "            X_test[i] = img[:,:,::-1]"
   ]
  },
  {
   "cell_type": "code",
   "execution_count": 26,
   "metadata": {
    "ExecuteTime": {
     "end_time": "2018-04-07T23:03:12.008784Z",
     "start_time": "2018-04-07T23:01:53.664178Z"
    }
   },
   "outputs": [
    {
     "name": "stdout",
     "output_type": "stream",
     "text": [
      "10080/10080 [==============================] - 78s 8ms/step\n"
     ]
    }
   ],
   "source": [
    "y_pred = model2.predict(X_test, batch_size=128, verbose=1)"
   ]
  },
  {
   "cell_type": "code",
   "execution_count": 27,
   "metadata": {
    "ExecuteTime": {
     "end_time": "2018-04-07T23:03:13.281597Z",
     "start_time": "2018-04-07T23:03:12.009929Z"
    },
    "collapsed": true
   },
   "outputs": [],
   "source": [
    "for i in range(n_test):\n",
    "    problem_name = df_test.label_name[i].replace('_labels', '')\n",
    "    problem_index = label_names.index(problem_name)\n",
    "    probs = y_pred[problem_index][i]\n",
    "    df_test.label[i] = ';'.join(np.char.mod('%.8f', probs))"
   ]
  },
  {
   "cell_type": "code",
   "execution_count": 28,
   "metadata": {
    "ExecuteTime": {
     "end_time": "2018-04-07T23:03:13.360156Z",
     "start_time": "2018-04-07T23:03:13.282708Z"
    },
    "collapsed": true
   },
   "outputs": [],
   "source": [
    "fname_csv = 'pred_%s.csv' % model_name\n",
    "fname_zip = 'pred_%s.zip' % model_name\n",
    "df_test.to_csv(fname_csv, index=None, header=None)"
   ]
  },
  {
   "cell_type": "code",
   "execution_count": 29,
   "metadata": {
    "ExecuteTime": {
     "end_time": "2018-04-07T23:03:13.758745Z",
     "start_time": "2018-04-07T23:03:13.362310Z"
    }
   },
   "outputs": [
    {
     "name": "stdout",
     "output_type": "stream",
     "text": [
      "  adding: pred_nasnet_fine_tuning_8clf_2.csv (deflated 69%)\n"
     ]
    },
    {
     "name": "stderr",
     "output_type": "stream",
     "text": [
      "rm: 无法删除'pred_nasnet_fine_tuning_8clf_2.zip': 没有那个文件或目录\n"
     ]
    }
   ],
   "source": [
    "%%bash -s $fname_csv $fname_zip\n",
    "rm $2\n",
    "zip $2 $1"
   ]
  },
  {
   "cell_type": "code",
   "execution_count": null,
   "metadata": {
    "collapsed": true
   },
   "outputs": [],
   "source": []
  }
 ],
 "metadata": {
  "kernelspec": {
   "display_name": "Python 3",
   "language": "python",
   "name": "python3"
  },
  "language_info": {
   "codemirror_mode": {
    "name": "ipython",
    "version": 3
   },
   "file_extension": ".py",
   "mimetype": "text/x-python",
   "name": "python",
   "nbconvert_exporter": "python",
   "pygments_lexer": "ipython3",
   "version": "3.6.3"
  },
  "toc": {
   "nav_menu": {},
   "number_sections": true,
   "sideBar": true,
   "skip_h1_title": false,
   "toc_cell": false,
   "toc_position": {},
   "toc_section_display": "block",
   "toc_window_display": false
  },
  "varInspector": {
   "cols": {
    "lenName": "40",
    "lenType": 16,
    "lenVar": 40
   },
   "kernels_config": {
    "python": {
     "delete_cmd_postfix": "",
     "delete_cmd_prefix": "del ",
     "library": "var_list.py",
     "varRefreshCmd": "print(var_dic_list())"
    },
    "r": {
     "delete_cmd_postfix": ") ",
     "delete_cmd_prefix": "rm(",
     "library": "var_list.r",
     "varRefreshCmd": "cat(var_dic_list()) "
    }
   },
   "position": {
    "height": "456px",
    "left": "980px",
    "right": "20px",
    "top": "134px",
    "width": "521px"
   },
   "types_to_exclude": [
    "module",
    "function",
    "builtin_function_or_method",
    "instance",
    "_Feature"
   ],
   "window_display": false
  }
 },
 "nbformat": 4,
 "nbformat_minor": 2
}
