{
 "cells": [
  {
   "cell_type": "code",
   "execution_count": 1,
   "metadata": {},
   "outputs": [
    {
     "name": "stderr",
     "output_type": "stream",
     "text": [
      "Using TensorFlow backend.\n"
     ]
    }
   ],
   "source": [
    "import keras.backend as K\n",
    "import tensorflow as tf\n",
    "import os \n",
    "os.chdir('E:/competition/tianchi/fashionAI/train/')"
   ]
  },
  {
   "cell_type": "markdown",
   "metadata": {},
   "source": [
    "# 导入必要的库"
   ]
  },
  {
   "cell_type": "code",
   "execution_count": 2,
   "metadata": {
    "collapsed": true
   },
   "outputs": [],
   "source": [
    "import numpy as np\n",
    "import pandas as pd\n",
    "import matplotlib.pyplot as plt\n",
    "import random\n",
    "import os\n",
    "import cv2\n",
    "from tqdm import tqdm,tqdm_notebook\n",
    "from glob import glob\n",
    "import multiprocessing\n",
    "from sklearn.model_selection import train_test_split\n",
    "from collections import Counter\n",
    "from scipy import misc\n",
    "import pydot\n",
    "from IPython.display import display, Image\n",
    "%matplotlib inline\n",
    "%config InlineBackend.figure_format = 'retina'"
   ]
  },
  {
   "cell_type": "code",
   "execution_count": 3,
   "metadata": {
    "collapsed": true
   },
   "outputs": [],
   "source": [
    "from keras.layers import *\n",
    "from keras.applications import *\n",
    "from keras.models import Model,Input\n",
    "from keras.optimizers import Adam\n",
    "from keras.preprocessing.image import *"
   ]
  },
  {
   "attachments": {
    "image.png": {
     "image/png": "[encoded data removed]"
    }
   },
   "cell_type": "markdown",
   "metadata": {},
   "source": [
    "# Read the dataset\n",
    "there are an large-scale image dataset (79000)\n",
    "![image.png](attachment:image.png)"
   ]
  },
  {
   "cell_type": "code",
   "execution_count": 4,
   "metadata": {},
   "outputs": [
    {
     "data": {
      "text/html": [
       "<div>\n",
       "<style>\n",
       "    .dataframe thead tr:only-child th {\n",
       "        text-align: right;\n",
       "    }\n",
       "\n",
       "    .dataframe thead th {\n",
       "        text-align: left;\n",
       "    }\n",
       "\n",
       "    .dataframe tbody tr th {\n",
       "        vertical-align: top;\n",
       "    }\n",
       "</style>\n",
       "<table border=\"1\" class=\"dataframe\">\n",
       "  <thead>\n",
       "    <tr style=\"text-align: right;\">\n",
       "      <th></th>\n",
       "      <th>filename</th>\n",
       "      <th>label_name</th>\n",
       "      <th>label</th>\n",
       "    </tr>\n",
       "  </thead>\n",
       "  <tbody>\n",
       "    <tr>\n",
       "      <th>0</th>\n",
       "      <td>Images/sleeve_length_labels/de9a4ec3ceb05e6754...</td>\n",
       "      <td>sleeve_length</td>\n",
       "      <td>nnynnnnnn</td>\n",
       "    </tr>\n",
       "    <tr>\n",
       "      <th>1</th>\n",
       "      <td>Images/coat_length_labels/d1282f2f6edc65c5a5a4...</td>\n",
       "      <td>coat_length</td>\n",
       "      <td>nnnnnynn</td>\n",
       "    </tr>\n",
       "    <tr>\n",
       "      <th>2</th>\n",
       "      <td>Images/skirt_length_labels/51468ef31ee805f41c2...</td>\n",
       "      <td>skirt_length</td>\n",
       "      <td>nnnnny</td>\n",
       "    </tr>\n",
       "    <tr>\n",
       "      <th>3</th>\n",
       "      <td>Images/skirt_length_labels/9d5b952c42e193538aa...</td>\n",
       "      <td>skirt_length</td>\n",
       "      <td>nnnnny</td>\n",
       "    </tr>\n",
       "    <tr>\n",
       "      <th>4</th>\n",
       "      <td>Images/skirt_length_labels/42984b1ab18a300122b...</td>\n",
       "      <td>skirt_length</td>\n",
       "      <td>nnnnny</td>\n",
       "    </tr>\n",
       "  </tbody>\n",
       "</table>\n",
       "</div>"
      ],
      "text/plain": [
       "                                            filename     label_name      label\n",
       "0  Images/sleeve_length_labels/de9a4ec3ceb05e6754...  sleeve_length  nnynnnnnn\n",
       "1  Images/coat_length_labels/d1282f2f6edc65c5a5a4...    coat_length   nnnnnynn\n",
       "2  Images/skirt_length_labels/51468ef31ee805f41c2...   skirt_length     nnnnny\n",
       "3  Images/skirt_length_labels/9d5b952c42e193538aa...   skirt_length     nnnnny\n",
       "4  Images/skirt_length_labels/42984b1ab18a300122b...   skirt_length     nnnnny"
      ]
     },
     "metadata": {},
     "output_type": "display_data"
    },
    {
     "data": {
      "text/plain": [
       "Counter({'coat_length': 11320,\n",
       "         'pant_length': 7460,\n",
       "         'skirt_length': 9223,\n",
       "         'sleeve_length': 13297})"
      ]
     },
     "execution_count": 4,
     "metadata": {},
     "output_type": "execute_result"
    }
   ],
   "source": [
    "df = pd.read_csv('Annotations/label.csv',header=None)\n",
    "df.columns = ['filename','label_name','label']\n",
    "length = ['coat_length','pant_length','skirt_length','sleeve_length']\n",
    "df = df.sample(frac=1).reset_index(drop=True)\n",
    "df.label_name = df.label_name.str.replace('_labels','')\n",
    "df = df[(df.label_name == length[0])|(df.label_name == length[1])|(df.label_name == length[2])|(df.label_name == length[3])]\n",
    "df = df.reset_index(drop=True)\n",
    "display(df.head())\n",
    "c = Counter(df.label_name)\n",
    "c"
   ]
  },
  {
   "cell_type": "markdown",
   "metadata": {},
   "source": [
    "# the number of classes for each charactristic"
   ]
  },
  {
   "cell_type": "code",
   "execution_count": 5,
   "metadata": {},
   "outputs": [
    {
     "data": {
      "text/plain": [
       "({'coat_length': 8, 'pant_length': 6, 'skirt_length': 6, 'sleeve_length': 9},\n",
       " ['sleeve_length', 'coat_length', 'skirt_length', 'pant_length'])"
      ]
     },
     "execution_count": 5,
     "metadata": {},
     "output_type": "execute_result"
    }
   ],
   "source": [
    "label_count = dict([(x,len(df[df.label_name == x].label.values[0])) for x in c.keys()])\n",
    "label_names = list(label_count.keys())\n",
    "label_count,label_names"
   ]
  },
  {
   "cell_type": "markdown",
   "metadata": {},
   "source": [
    "# 多任务学习的标签设置\n",
    "对每个样本都生成相同属性长度"
   ]
  },
  {
   "cell_type": "code",
   "execution_count": 6,
   "metadata": {},
   "outputs": [
    {
     "data": {
      "application/vnd.jupyter.widget-view+json": {
       "model_id": "8396f4ff494948e184ee252bbe435534",
       "version_major": 2,
       "version_minor": 0
      },
      "text/plain": [
       "A Jupyter Widget"
      ]
     },
     "metadata": {},
     "output_type": "display_data"
    },
    {
     "name": "stdout",
     "output_type": "stream",
     "text": [
      "\n"
     ]
    }
   ],
   "source": [
    "fnames = df['filename'].values\n",
    "width = 224\n",
    "n = len(df)\n",
    "y = [np.zeros((n,label_count[x])) for x in label_count.keys()]\n",
    "for i in tqdm_notebook(range(n)):\n",
    "    label_name = df.label_name[i]\n",
    "    label = df.label[i]\n",
    "    y[label_names.index(label_name)][i,label.find('y')] = 1\n",
    "    "
   ]
  },
  {
   "cell_type": "code",
   "execution_count": 7,
   "metadata": {
    "scrolled": true
   },
   "outputs": [
    {
     "data": {
      "text/plain": [
       "[array([ 0.,  0.,  1.,  0.,  0.,  0.,  0.,  0.,  0.]),\n",
       " array([ 0.,  0.,  0.,  0.,  0.,  0.,  0.,  0.]),\n",
       " array([ 0.,  0.,  0.,  0.,  0.,  0.]),\n",
       " array([ 0.,  0.,  0.,  0.,  0.,  0.])]"
      ]
     },
     "execution_count": 7,
     "metadata": {},
     "output_type": "execute_result"
    }
   ],
   "source": [
    "testLabel = [y[i][0] for i in range(4)]\n",
    "testLabel\n",
    "# 这是第一个样本的标签，它只有coat_length这一属性是有标签的"
   ]
  },
  {
   "cell_type": "markdown",
   "metadata": {},
   "source": [
    "## resize the image,get the X"
   ]
  },
  {
   "cell_type": "code",
   "execution_count": 25,
   "metadata": {
    "collapsed": true
   },
   "outputs": [],
   "source": [
    "def resize_image(path,resolution):\n",
    "    img = cv2.imread(path)\n",
    "    (b,g,r) = cv2.split(img)\n",
    "    img = cv2.merge([r,g,b])\n",
    "    image = misc.imresize(img,(resolution,resolution,3),mode=None)\n",
    "    return image"
   ]
  },
  {
   "cell_type": "code",
   "execution_count": 26,
   "metadata": {},
   "outputs": [
    {
     "data": {
      "application/vnd.jupyter.widget-view+json": {
       "model_id": "27b374d173c24283975d3fc9f555e4d2",
       "version_major": 2,
       "version_minor": 0
      },
      "text/plain": [
       "A Jupyter Widget"
      ]
     },
     "metadata": {},
     "output_type": "display_data"
    },
    {
     "name": "stdout",
     "output_type": "stream",
     "text": [
      "\n"
     ]
    }
   ],
   "source": [
    "X = [resize_image(fnames[i],width) for i in tqdm_notebook(range(n))]"
   ]
  },
  {
   "cell_type": "markdown",
   "metadata": {},
   "source": [
    "# train_val_split"
   ]
  },
  {
   "cell_type": "code",
   "execution_count": 28,
   "metadata": {
    "collapsed": true
   },
   "outputs": [],
   "source": [
    "X = np.array(X)\n",
    "n_train = int(n*0.8)\n",
    "X_train = X[:n_train]\n",
    "X_valid = X[n_train:]\n",
    "y_train = [x[:n_train] for x in y]\n",
    "y_valid = [x[n_train:] for x in y]"
   ]
  },
  {
   "cell_type": "markdown",
   "metadata": {},
   "source": [
    "## display images"
   ]
  },
  {
   "cell_type": "code",
   "execution_count": 31,
   "metadata": {
    "collapsed": true
   },
   "outputs": [],
   "source": [
    "def display_images(imgs, w=4, h=4, figsize=(24, 12)):\n",
    "    plt.figure(figsize=figsize)\n",
    "    for i in range(w*h):\n",
    "        plt.subplot(h, w, i+1)\n",
    "        plt.imshow(imgs[i])"
   ]
  },
  {
   "cell_type": "code",
   "execution_count": null,
   "metadata": {
    "collapsed": true
   },
   "outputs": [],
   "source": [
    "display_images(X[:16])"
   ]
  },
  {
   "cell_type": "markdown",
   "metadata": {},
   "source": [
    "## data_generator"
   ]
  },
  {
   "cell_type": "code",
   "execution_count": 33,
   "metadata": {
    "collapsed": true
   },
   "outputs": [],
   "source": [
    "class Generator():\n",
    "    def __init__(self, X, y, batch_size=16, aug=False):\n",
    "        def generator():\n",
    "            idg = ImageDataGenerator(horizontal_flip=True,\n",
    "                                     channel_shift_range=10,\n",
    "                                     rotation_range=20,\n",
    "                                     zoom_range=0.2)\n",
    "            while True:\n",
    "                for i in range(0, len(X), batch_size):\n",
    "                    X_batch = X[i:i+batch_size].copy()\n",
    "                    y_batch = [x[i:i+batch_size] for x in y]\n",
    "                    if aug:\n",
    "                        for j in range(len(X_batch)):\n",
    "                            X_batch[j] = idg.random_transform(X_batch[j])\n",
    "                    yield X_batch, y_batch\n",
    "        self.generator = generator()\n",
    "        self.steps = len(X) // batch_size + 1"
   ]
  },
  {
   "cell_type": "code",
   "execution_count": 36,
   "metadata": {
    "collapsed": true
   },
   "outputs": [],
   "source": [
    "gen_train = Generator(X_train, y_train, batch_size=8, aug=True)"
   ]
  },
  {
   "cell_type": "markdown",
   "metadata": {},
   "source": [
    "## Model"
   ]
  },
  {
   "cell_type": "code",
   "execution_count": 39,
   "metadata": {
    "collapsed": true
   },
   "outputs": [],
   "source": [
    "#自定义的准确率函数，只计算y_true中有1的任务的误差\n",
    "def acc(y_true, y_pred):\n",
    "    index = tf.reduce_any(y_true > 0.5, axis=-1)\n",
    "    res = tf.equal(tf.argmax(y_true, axis=-1), tf.argmax(y_pred, axis=-1))\n",
    "    index = tf.cast(index, tf.float32)\n",
    "    res = tf.cast(res, tf.float32)\n",
    "    return tf.reduce_sum(res * index) / (tf.reduce_sum(index) + 1e-7)"
   ]
  },
  {
   "cell_type": "code",
   "execution_count": 44,
   "metadata": {
    "collapsed": true
   },
   "outputs": [],
   "source": [
    "width = 224\n",
    "model_name = 'length_nanset_224'\n",
    "base_model = NASNetLarge(include_top=False, weights='imagenet',input_shape=(width, width, 3), pooling='max')\n",
    "\n",
    "for layer in base_model.layers[:16]:\n",
    "    layer.trainable = False\n",
    "    \n",
    "input_tensor = Input((width, width, 3))\n",
    "x = input_tensor\n",
    "\n",
    "x = Lambda(nasnet.preprocess_input)(x)\n",
    "x = base_model(x)\n",
    "x = Dropout(0.5)(x)\n",
    "\n",
    "x = [Dense(count, activation='softmax', name=name)(x) for name, count in label_count.items()]\n",
    "\n",
    "model = Model(input_tensor, x)\n",
    "model.compile(optimizer='adam', loss='categorical_crossentropy', metrics=['acc'])"
   ]
  },
  {
   "cell_type": "code",
   "execution_count": null,
   "metadata": {
    "collapsed": true
   },
   "outputs": [],
   "source": [
    "# plot the model\n",
    "from IPython.display import SVG\n",
    "from keras.utils.vis_utils import model_to_dot, plot_model\n",
    "\n",
    "plot_model(model, show_shapes=True, to_file='model_%s.png'% model_name)\n",
    "SVG(model_to_dot(model, show_shapes=True).create(prog='dot', format='svg'))"
   ]
  },
  {
   "cell_type": "code",
   "execution_count": null,
   "metadata": {
    "collapsed": true
   },
   "outputs": [],
   "source": [
    "model.summary()"
   ]
  },
  {
   "cell_type": "code",
   "execution_count": null,
   "metadata": {
    "collapsed": true
   },
   "outputs": [],
   "source": [
    "model.compile(optimizer=Adam(0.001), loss='categorical_crossentropy', metrics=[acc])\n",
    "model.fit_generator(gen_train.generator, steps_per_epoch=gen_train.steps,epochs=1, validation_data=(X_valid, y_valid))"
   ]
  },
  {
   "cell_type": "code",
   "execution_count": null,
   "metadata": {
    "collapsed": true
   },
   "outputs": [],
   "source": [
    "model.compile(optimizer=Adam(1e-4), loss='categorical_crossentropy', metrics=[acc])\n",
    "model.fit_generator(gen_train.generator, steps_per_epoch=gen_train.steps,epochs=2, validation_data=(X_valid, y_valid))"
   ]
  },
  {
   "cell_type": "code",
   "execution_count": null,
   "metadata": {
    "collapsed": true
   },
   "outputs": [],
   "source": [
    "model.compile(optimizer=Adam(1e-5), loss='categorical_crossentropy', metrics=[acc])\n",
    "model.fit_generator(gen_train.generator, steps_per_epoch=gen_train.steps,epochs=2, validation_data=(X_valid, y_valid))"
   ]
  },
  {
   "cell_type": "code",
   "execution_count": null,
   "metadata": {
    "collapsed": true
   },
   "outputs": [],
   "source": [
    "model.compile(optimizer=Adam(1e-6), loss='categorical_crossentropy', metrics=[acc])\n",
    "model.fit_generator(gen_train.generator, steps_per_epoch=gen_train.steps,epochs=2, validation_data=(X_valid, y_valid))"
   ]
  },
  {
   "cell_type": "code",
   "execution_count": null,
   "metadata": {
    "collapsed": true
   },
   "outputs": [],
   "source": [
    "model.save('model_%s.h5' % model_name)"
   ]
  },
  {
   "cell_type": "markdown",
   "metadata": {},
   "source": [
    "## 计算验证集准确率"
   ]
  },
  {
   "cell_type": "code",
   "execution_count": null,
   "metadata": {
    "collapsed": true
   },
   "outputs": [],
   "source": [
    "y_pred = model.predict(X_valid,batch_size=16,verbose=1)"
   ]
  },
  {
   "cell_type": "code",
   "execution_count": null,
   "metadata": {
    "collapsed": true
   },
   "outputs": [],
   "source": [
    "#a 代表了样本属于哪一类\n",
    "a = np.array([x.any(axis=-1) for x in y_valid]).T.astype('uint8')\n",
    "# np.where If only `condition` is given, return ``condition.nonzero()``.\n",
    "#  b shape=(4,每个类的样本索引)  表示属于该类的样本的索引位置\n",
    "b = [np.where((a == np.eye(4)[x]).all(axis=-1))[0] for x in range(4)]\n",
    "\n",
    "for c in range(4):\n",
    "    y_pred2 = y_pred[c][b[c]].argmax(axis=-1) #寻找每一个样本的概率最大的一个，作为预测的分类\n",
    "    y_true2 = y_valid[c][b[c]].argmax(axis=-1)\n",
    "    print(label_names[c], (y_pred2 == y_true2).mean())"
   ]
  },
  {
   "cell_type": "code",
   "execution_count": null,
   "metadata": {
    "collapsed": true
   },
   "outputs": [],
   "source": []
  }
 ],
 "metadata": {
  "kernelspec": {
   "display_name": "Python 3",
   "language": "python",
   "name": "python3"
  },
  "language_info": {
   "codemirror_mode": {
    "name": "ipython",
    "version": 3
   },
   "file_extension": ".py",
   "mimetype": "text/x-python",
   "name": "python",
   "nbconvert_exporter": "python",
   "pygments_lexer": "ipython3",
   "version": "3.6.3"
  }
 },
 "nbformat": 4,
 "nbformat_minor": 2
}
